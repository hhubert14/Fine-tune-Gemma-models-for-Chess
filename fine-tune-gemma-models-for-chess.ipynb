{
 "cells": [
  {
   "cell_type": "markdown",
   "id": "96067ae7",
   "metadata": {
    "papermill": {
     "duration": 0.006455,
     "end_time": "2024-07-28T14:30:02.070721",
     "exception": false,
     "start_time": "2024-07-28T14:30:02.064266",
     "status": "completed"
    },
    "tags": []
   },
   "source": [
    "source: https://ai.google.dev/gemma/docs/lora_tuning"
   ]
  },
  {
   "cell_type": "code",
   "execution_count": 1,
   "id": "cb1638cd",
   "metadata": {
    "_cell_guid": "b1076dfc-b9ad-4769-8c92-a6c4dae69d19",
    "_uuid": "8f2839f25d086af736a60e9eeb907d3b93b6e0e5",
    "execution": {
     "iopub.execute_input": "2024-07-28T14:30:02.083958Z",
     "iopub.status.busy": "2024-07-28T14:30:02.083659Z",
     "iopub.status.idle": "2024-07-28T14:30:02.831154Z",
     "shell.execute_reply": "2024-07-28T14:30:02.830247Z"
    },
    "papermill": {
     "duration": 0.756772,
     "end_time": "2024-07-28T14:30:02.833523",
     "exception": false,
     "start_time": "2024-07-28T14:30:02.076751",
     "status": "completed"
    },
    "tags": []
   },
   "outputs": [
    {
     "name": "stdout",
     "output_type": "stream",
     "text": [
      "/kaggle/input/gemma/keras/gemma_2b_en/2/config.json\n",
      "/kaggle/input/gemma/keras/gemma_2b_en/2/tokenizer.json\n",
      "/kaggle/input/gemma/keras/gemma_2b_en/2/metadata.json\n",
      "/kaggle/input/gemma/keras/gemma_2b_en/2/model.weights.h5\n",
      "/kaggle/input/gemma/keras/gemma_2b_en/2/assets/tokenizer/vocabulary.spm\n",
      "/kaggle/input/gemma/keras/gemma_1.1_instruct_2b_en/3/config.json\n",
      "/kaggle/input/gemma/keras/gemma_1.1_instruct_2b_en/3/tokenizer.json\n",
      "/kaggle/input/gemma/keras/gemma_1.1_instruct_2b_en/3/metadata.json\n",
      "/kaggle/input/gemma/keras/gemma_1.1_instruct_2b_en/3/model.weights.h5\n",
      "/kaggle/input/gemma/keras/gemma_1.1_instruct_2b_en/3/assets/tokenizer/vocabulary.spm\n",
      "/kaggle/input/chess-puzzle-dataset/Chess Puzzle Dataset.csv\n"
     ]
    }
   ],
   "source": [
    "# This Python 3 environment comes with many helpful analytics libraries installed\n",
    "# It is defined by the kaggle/python Docker image: https://github.com/kaggle/docker-python\n",
    "# For example, here's several helpful packages to load\n",
    "\n",
    "import numpy as np # linear algebra\n",
    "import pandas as pd # data processing, CSV file I/O (e.g. pd.read_csv)\n",
    "\n",
    "# Input data files are available in the read-only \"../input/\" directory\n",
    "# For example, running this (by clicking run or pressing Shift+Enter) will list all files under the input directory\n",
    "\n",
    "import os\n",
    "for dirname, _, filenames in os.walk('/kaggle/input'):\n",
    "    for filename in filenames:\n",
    "        print(os.path.join(dirname, filename))\n",
    "\n",
    "# You can write up to 20GB to the current directory (/kaggle/working/) that gets preserved as output when you create a version using \"Save & Run All\" \n",
    "# You can also write temporary files to /kaggle/temp/, but they won't be saved outside of the current session"
   ]
  },
  {
   "cell_type": "code",
   "execution_count": 2,
   "id": "1a8f4605",
   "metadata": {
    "execution": {
     "iopub.execute_input": "2024-07-28T14:30:02.847222Z",
     "iopub.status.busy": "2024-07-28T14:30:02.846853Z",
     "iopub.status.idle": "2024-07-28T14:30:33.235818Z",
     "shell.execute_reply": "2024-07-28T14:30:33.234816Z"
    },
    "papermill": {
     "duration": 30.398177,
     "end_time": "2024-07-28T14:30:33.238159",
     "exception": false,
     "start_time": "2024-07-28T14:30:02.839982",
     "status": "completed"
    },
    "tags": []
   },
   "outputs": [
    {
     "name": "stdout",
     "output_type": "stream",
     "text": [
      "\u001b[31mERROR: pip's dependency resolver does not currently take into account all the packages that are installed. This behaviour is the source of the following dependency conflicts.\r\n",
      "tensorflow-decision-forests 1.8.1 requires wurlitzer, which is not installed.\u001b[0m\u001b[31m\r\n",
      "\u001b[0m\u001b[31mERROR: pip's dependency resolver does not currently take into account all the packages that are installed. This behaviour is the source of the following dependency conflicts.\r\n",
      "tensorflow-decision-forests 1.8.1 requires wurlitzer, which is not installed.\r\n",
      "tensorflow 2.15.0 requires keras<2.16,>=2.15.0, but you have keras 3.4.1 which is incompatible.\u001b[0m\u001b[31m\r\n",
      "\u001b[0m"
     ]
    }
   ],
   "source": [
    "!pip install -q -U keras-nlp\n",
    "!pip install -q -U keras>=3"
   ]
  },
  {
   "cell_type": "code",
   "execution_count": 3,
   "id": "553545d2",
   "metadata": {
    "execution": {
     "iopub.execute_input": "2024-07-28T14:30:33.252121Z",
     "iopub.status.busy": "2024-07-28T14:30:33.251760Z",
     "iopub.status.idle": "2024-07-28T14:30:46.269040Z",
     "shell.execute_reply": "2024-07-28T14:30:46.268246Z"
    },
    "papermill": {
     "duration": 13.026797,
     "end_time": "2024-07-28T14:30:46.271332",
     "exception": false,
     "start_time": "2024-07-28T14:30:33.244535",
     "status": "completed"
    },
    "tags": []
   },
   "outputs": [
    {
     "name": "stderr",
     "output_type": "stream",
     "text": [
      "2024-07-28 14:30:35.150471: E external/local_xla/xla/stream_executor/cuda/cuda_dnn.cc:9261] Unable to register cuDNN factory: Attempting to register factory for plugin cuDNN when one has already been registered\n",
      "2024-07-28 14:30:35.150607: E external/local_xla/xla/stream_executor/cuda/cuda_fft.cc:607] Unable to register cuFFT factory: Attempting to register factory for plugin cuFFT when one has already been registered\n",
      "2024-07-28 14:30:35.289194: E external/local_xla/xla/stream_executor/cuda/cuda_blas.cc:1515] Unable to register cuBLAS factory: Attempting to register factory for plugin cuBLAS when one has already been registered\n"
     ]
    }
   ],
   "source": [
    "import keras\n",
    "import keras_nlp"
   ]
  },
  {
   "cell_type": "code",
   "execution_count": 4,
   "id": "5eae25ad",
   "metadata": {
    "execution": {
     "iopub.execute_input": "2024-07-28T14:30:46.285919Z",
     "iopub.status.busy": "2024-07-28T14:30:46.285172Z",
     "iopub.status.idle": "2024-07-28T14:30:46.289850Z",
     "shell.execute_reply": "2024-07-28T14:30:46.289028Z"
    },
    "papermill": {
     "duration": 0.013676,
     "end_time": "2024-07-28T14:30:46.291689",
     "exception": false,
     "start_time": "2024-07-28T14:30:46.278013",
     "status": "completed"
    },
    "tags": []
   },
   "outputs": [],
   "source": [
    "import os\n",
    "\n",
    "os.environ[\"KERAS_BACKEND\"] = \"jax\"  # Or \"tensorflow\" or \"torch\".\n",
    "os.environ[\"XLA_PYTHON_CLIENT_MEM_FRACTION\"]=\"1.00\"\n",
    "os.environ[\"TF_GPU_ALLOCATOR\"]=\"cuda_malloc_async\""
   ]
  },
  {
   "cell_type": "markdown",
   "id": "13f88e6b",
   "metadata": {
    "papermill": {
     "duration": 0.006079,
     "end_time": "2024-07-28T14:30:46.303919",
     "exception": false,
     "start_time": "2024-07-28T14:30:46.297840",
     "status": "completed"
    },
    "tags": []
   },
   "source": [
    "Explore the chess dataset"
   ]
  },
  {
   "cell_type": "code",
   "execution_count": 5,
   "id": "4987d8bc",
   "metadata": {
    "collapsed": true,
    "execution": {
     "iopub.execute_input": "2024-07-28T14:30:46.317137Z",
     "iopub.status.busy": "2024-07-28T14:30:46.316890Z",
     "iopub.status.idle": "2024-07-28T14:30:46.351759Z",
     "shell.execute_reply": "2024-07-28T14:30:46.350922Z"
    },
    "jupyter": {
     "outputs_hidden": true
    },
    "papermill": {
     "duration": 0.043623,
     "end_time": "2024-07-28T14:30:46.353653",
     "exception": false,
     "start_time": "2024-07-28T14:30:46.310030",
     "status": "completed"
    },
    "tags": []
   },
   "outputs": [
    {
     "data": {
      "text/html": [
       "<div>\n",
       "<style scoped>\n",
       "    .dataframe tbody tr th:only-of-type {\n",
       "        vertical-align: middle;\n",
       "    }\n",
       "\n",
       "    .dataframe tbody tr th {\n",
       "        vertical-align: top;\n",
       "    }\n",
       "\n",
       "    .dataframe thead th {\n",
       "        text-align: right;\n",
       "    }\n",
       "</style>\n",
       "<table border=\"1\" class=\"dataframe\">\n",
       "  <thead>\n",
       "    <tr style=\"text-align: right;\">\n",
       "      <th></th>\n",
       "      <th>FEN</th>\n",
       "      <th>Player's Turn</th>\n",
       "      <th>Best Move</th>\n",
       "      <th>Explanation</th>\n",
       "    </tr>\n",
       "  </thead>\n",
       "  <tbody>\n",
       "    <tr>\n",
       "      <th>0</th>\n",
       "      <td>rnbqk2r/pppp1ppp/2n5/1B2p3/4P3/5N2/PPPP1PPP/RN...</td>\n",
       "      <td>White</td>\n",
       "      <td>e4</td>\n",
       "      <td>This is the opening principle of controlling t...</td>\n",
       "    </tr>\n",
       "    <tr>\n",
       "      <th>1</th>\n",
       "      <td>r1bqkbnr/pppp1ppp/2n5/4P3/5N2/P6/1PPPPPPP/RNBQ...</td>\n",
       "      <td>Black</td>\n",
       "      <td>c6</td>\n",
       "      <td>Developing a knight is a good follow-up to e4....</td>\n",
       "    </tr>\n",
       "    <tr>\n",
       "      <th>2</th>\n",
       "      <td>rnbqk2r/pppp1ppp/2n5/1B2p3/4P3/5N2/PPPP1PPP/RN...</td>\n",
       "      <td>White</td>\n",
       "      <td>Nf3</td>\n",
       "      <td>Another developing move. This knight controls ...</td>\n",
       "    </tr>\n",
       "    <tr>\n",
       "      <th>3</th>\n",
       "      <td>r1bqkbnr/pppp1ppp/2n5/3Pp3/4N3/P6/1PPPPPPP/RNB...</td>\n",
       "      <td>Black</td>\n",
       "      <td>dxe4</td>\n",
       "      <td>This recaptures the pawn lost earlier. Black c...</td>\n",
       "    </tr>\n",
       "    <tr>\n",
       "      <th>4</th>\n",
       "      <td>r1bqkbnr/pppp1ppp/2n5/1B2p3/4P3/5N2/PPPP1PPP/R...</td>\n",
       "      <td>Black</td>\n",
       "      <td>dxe4</td>\n",
       "      <td>This captures the center pawn, challenging Whi...</td>\n",
       "    </tr>\n",
       "    <tr>\n",
       "      <th>5</th>\n",
       "      <td>rnbqk2r/pppp1ppp/4n3/2B1p3/4P3/5N2/PPPP1PPP/RN...</td>\n",
       "      <td>White</td>\n",
       "      <td>Nc3</td>\n",
       "      <td>White defends the e4 pawn and prepares to cast...</td>\n",
       "    </tr>\n",
       "    <tr>\n",
       "      <th>6</th>\n",
       "      <td>r1bqkbnr/pppp1ppp/2n5/4P3/4N2/P6/1PPPPPPP/RNBQ...</td>\n",
       "      <td>Black</td>\n",
       "      <td>Nf6</td>\n",
       "      <td>Black develops the knight and defends the d5-p...</td>\n",
       "    </tr>\n",
       "    <tr>\n",
       "      <th>7</th>\n",
       "      <td>rnbqk2r/pppp1ppp/4n3/2B1p3/4P3/5N2/PPPP1PPP/RN...</td>\n",
       "      <td>White</td>\n",
       "      <td>d3</td>\n",
       "      <td>White prepares for castling and fights for cen...</td>\n",
       "    </tr>\n",
       "    <tr>\n",
       "      <th>8</th>\n",
       "      <td>r1bqkbnr/pppp2pp/2n5/4P3/3NP3/P6/1PPPPPPP/RNBQ...</td>\n",
       "      <td>Black</td>\n",
       "      <td>Bd7</td>\n",
       "      <td>Black develops the bishop and prepares ...0-0....</td>\n",
       "    </tr>\n",
       "    <tr>\n",
       "      <th>9</th>\n",
       "      <td>rnbqk2r/pppp1ppp/4n3/2B1p3/4P3/5N2/PPPP1PPP/RN...</td>\n",
       "      <td>Black</td>\n",
       "      <td>O-O</td>\n",
       "      <td>Black castles queenside for safety and activat...</td>\n",
       "    </tr>\n",
       "    <tr>\n",
       "      <th>10</th>\n",
       "      <td>rnbqk2r/pppp1ppp/4n3/2B1p3/4P3/5N2/PPPP1PPP/RN...</td>\n",
       "      <td>White</td>\n",
       "      <td>f4</td>\n",
       "      <td>White expands their position and fights for sp...</td>\n",
       "    </tr>\n",
       "    <tr>\n",
       "      <th>11</th>\n",
       "      <td>r1bqkbnr/pppp1ppp/2n5/1B2p3/4P3/5N2/PPPP1PPP/R...</td>\n",
       "      <td>Black</td>\n",
       "      <td>e5</td>\n",
       "      <td>Black challenges White's control over the cent...</td>\n",
       "    </tr>\n",
       "    <tr>\n",
       "      <th>12</th>\n",
       "      <td>rnbqk2r/pppp1ppp/4n3/1B2p3/4Pp2/5N2/PPPP2PP/RN...</td>\n",
       "      <td>White</td>\n",
       "      <td>Nf3</td>\n",
       "      <td>White develops the knight and defends the e4-p...</td>\n",
       "    </tr>\n",
       "    <tr>\n",
       "      <th>13</th>\n",
       "      <td>r1bqkbnr/pppp1ppp/2n5/1B2p3/4NP2/5N2/PPPP1PPP/...</td>\n",
       "      <td>Black</td>\n",
       "      <td>Nc6</td>\n",
       "      <td>Black develops the knight and defends the d5-p...</td>\n",
       "    </tr>\n",
       "    <tr>\n",
       "      <th>14</th>\n",
       "      <td>6k1/5pp1/4pn2/3q4/1Pr5/PN3PPp/3Q3P/3R2K1 b - -...</td>\n",
       "      <td>Black</td>\n",
       "      <td>Qxf3</td>\n",
       "      <td>The black queen captures White's pawn, which w...</td>\n",
       "    </tr>\n",
       "    <tr>\n",
       "      <th>15</th>\n",
       "      <td>4r2k/pp1R4/6P1/5Nn1/4b1N1/1P6/P6p/5K2 w - - 0 1</td>\n",
       "      <td>White</td>\n",
       "      <td>Rh7+</td>\n",
       "      <td>Knight blocks h7 after recapturing leading to ...</td>\n",
       "    </tr>\n",
       "    <tr>\n",
       "      <th>16</th>\n",
       "      <td>1r4k1/5pPR/8/8/8/5K2/8/8 w - - 0 1</td>\n",
       "      <td>White</td>\n",
       "      <td>Rh8+</td>\n",
       "      <td>The white rook skewers Black's king and rook.</td>\n",
       "    </tr>\n",
       "    <tr>\n",
       "      <th>17</th>\n",
       "      <td>1Q6/p1r1kpp1/4p3/3pP3/5Pnp/1P6/P2R2PP/2q3NK b ...</td>\n",
       "      <td>Black</td>\n",
       "      <td>Qxg1+</td>\n",
       "      <td>The black queen decoys White's king.</td>\n",
       "    </tr>\n",
       "    <tr>\n",
       "      <th>18</th>\n",
       "      <td>8/3k4/6R1/7p/7P/5PK1/8/2r5 b - - 0 1</td>\n",
       "      <td>Black</td>\n",
       "      <td>Rg1+</td>\n",
       "      <td>The black rook skewers White's king and rook.</td>\n",
       "    </tr>\n",
       "    <tr>\n",
       "      <th>19</th>\n",
       "      <td>3r3k/1p2Q2p/3q2p1/p1p5/4p2P/PP6/6P1/5R1K w - -...</td>\n",
       "      <td>White</td>\n",
       "      <td>Rf8+</td>\n",
       "      <td>The white rook deflects Black's rook away from...</td>\n",
       "    </tr>\n",
       "    <tr>\n",
       "      <th>20</th>\n",
       "      <td>1kr1b2r/5pp1/pq2p2p/4P3/1p1NRP2/2P2N2/P1PQ2PP/...</td>\n",
       "      <td>Black</td>\n",
       "      <td>bxc3+</td>\n",
       "      <td>With a discovered check by the black queen.</td>\n",
       "    </tr>\n",
       "    <tr>\n",
       "      <th>21</th>\n",
       "      <td>5rk1/p4qpp/3b4/3rp3/2Q5/4B2P/PP3PP1/R2R2K1 b -...</td>\n",
       "      <td>Black</td>\n",
       "      <td>Rxd1+</td>\n",
       "      <td>With a discovered attack by the black queen on...</td>\n",
       "    </tr>\n",
       "    <tr>\n",
       "      <th>22</th>\n",
       "      <td>4r1k1/2pr2bp/1p2b3/5p2/Pp6/1P1PR3/2PN2BP/4R1K1...</td>\n",
       "      <td>Black</td>\n",
       "      <td>Bd4</td>\n",
       "      <td>The black bishop pins White's rook against Whi...</td>\n",
       "    </tr>\n",
       "    <tr>\n",
       "      <th>23</th>\n",
       "      <td>4nk2/R4ppp/1r1np3/2N5/5P2/1p1B2P1/7P/6K1 w - -...</td>\n",
       "      <td>White</td>\n",
       "      <td>Nd7+</td>\n",
       "      <td>The white knight forks Black's king and rook.</td>\n",
       "    </tr>\n",
       "    <tr>\n",
       "      <th>24</th>\n",
       "      <td>1r4k1/ppr2pp1/4p2p/2Bp2Pn/7P/4PP2/PPP5/2KR3R w...</td>\n",
       "      <td>White</td>\n",
       "      <td>Bd6</td>\n",
       "      <td>The white bishop skewers Black's rook and rook.</td>\n",
       "    </tr>\n",
       "    <tr>\n",
       "      <th>25</th>\n",
       "      <td>5kb1/1p2r3/p1pN1K2/8/1P6/8/1P5R/8 b - - 0 1</td>\n",
       "      <td>Black</td>\n",
       "      <td>Re6+</td>\n",
       "      <td>The black rook forks White's king and knight.</td>\n",
       "    </tr>\n",
       "    <tr>\n",
       "      <th>26</th>\n",
       "      <td>3Q4/p4ppk/b3p3/8/1bq5/2p1P2P/5PB1/2R3K1 w - - 0 1</td>\n",
       "      <td>White</td>\n",
       "      <td>Bf1</td>\n",
       "      <td>The white bishop skewers Black's queen and bis...</td>\n",
       "    </tr>\n",
       "    <tr>\n",
       "      <th>27</th>\n",
       "      <td>8/6bN/6p1/7k/8/5K2/8/8 b - - 0 1</td>\n",
       "      <td>Black</td>\n",
       "      <td>Kh6</td>\n",
       "      <td>The black king attacks White's knight, which i...</td>\n",
       "    </tr>\n",
       "    <tr>\n",
       "      <th>28</th>\n",
       "      <td>4r1k1/pb3qBp/1p3Pp1/8/3P1R1Q/4p3/PPr3PP/R5K1 w...</td>\n",
       "      <td>White</td>\n",
       "      <td>Qxh7+</td>\n",
       "      <td>The white queen decoys Black's king.</td>\n",
       "    </tr>\n",
       "    <tr>\n",
       "      <th>29</th>\n",
       "      <td>4r3/ppp3bk/6pp/3P1q2/P5n1/1Q3N1P/1P3PP1/R1B3K1...</td>\n",
       "      <td>Black</td>\n",
       "      <td>Re1+</td>\n",
       "      <td>The black rook decoys White's knight. The blac...</td>\n",
       "    </tr>\n",
       "    <tr>\n",
       "      <th>30</th>\n",
       "      <td>Q5n1/p1R1nk1p/3pNr1r/1p1P1p2/4pP2/4NbPB/PP5K/6...</td>\n",
       "      <td>Black</td>\n",
       "      <td>Rxh3+</td>\n",
       "      <td>The black rook decoys White's king.</td>\n",
       "    </tr>\n",
       "    <tr>\n",
       "      <th>31</th>\n",
       "      <td>1r4k1/5np1/3pN2p/2pq4/4N3/6PK/2Q4P/R7 w - - 0 1</td>\n",
       "      <td>White</td>\n",
       "      <td>Nf6+</td>\n",
       "      <td>The white knight clears the way for White's qu...</td>\n",
       "    </tr>\n",
       "    <tr>\n",
       "      <th>32</th>\n",
       "      <td>8/p1r2p1k/4pPrp/q3P1p1/8/2pQ3R/6PP/2R4K w - - 0 1</td>\n",
       "      <td>White</td>\n",
       "      <td>Rxh6+</td>\n",
       "      <td>The white rook decoys Black's king.</td>\n",
       "    </tr>\n",
       "    <tr>\n",
       "      <th>33</th>\n",
       "      <td>7k/1p1n2q1/3pNb1P/p2Ppr2/P1P5/1P2P3/6P1/4K2R w...</td>\n",
       "      <td>White</td>\n",
       "      <td>hxg7+</td>\n",
       "      <td>Double check The white pawn captures Black's q...</td>\n",
       "    </tr>\n",
       "  </tbody>\n",
       "</table>\n",
       "</div>"
      ],
      "text/plain": [
       "                                                  FEN Player's Turn Best Move  \\\n",
       "0   rnbqk2r/pppp1ppp/2n5/1B2p3/4P3/5N2/PPPP1PPP/RN...         White        e4   \n",
       "1   r1bqkbnr/pppp1ppp/2n5/4P3/5N2/P6/1PPPPPPP/RNBQ...         Black        c6   \n",
       "2   rnbqk2r/pppp1ppp/2n5/1B2p3/4P3/5N2/PPPP1PPP/RN...         White       Nf3   \n",
       "3   r1bqkbnr/pppp1ppp/2n5/3Pp3/4N3/P6/1PPPPPPP/RNB...         Black      dxe4   \n",
       "4   r1bqkbnr/pppp1ppp/2n5/1B2p3/4P3/5N2/PPPP1PPP/R...         Black      dxe4   \n",
       "5   rnbqk2r/pppp1ppp/4n3/2B1p3/4P3/5N2/PPPP1PPP/RN...         White       Nc3   \n",
       "6   r1bqkbnr/pppp1ppp/2n5/4P3/4N2/P6/1PPPPPPP/RNBQ...         Black       Nf6   \n",
       "7   rnbqk2r/pppp1ppp/4n3/2B1p3/4P3/5N2/PPPP1PPP/RN...         White        d3   \n",
       "8   r1bqkbnr/pppp2pp/2n5/4P3/3NP3/P6/1PPPPPPP/RNBQ...         Black       Bd7   \n",
       "9   rnbqk2r/pppp1ppp/4n3/2B1p3/4P3/5N2/PPPP1PPP/RN...         Black       O-O   \n",
       "10  rnbqk2r/pppp1ppp/4n3/2B1p3/4P3/5N2/PPPP1PPP/RN...         White        f4   \n",
       "11  r1bqkbnr/pppp1ppp/2n5/1B2p3/4P3/5N2/PPPP1PPP/R...         Black        e5   \n",
       "12  rnbqk2r/pppp1ppp/4n3/1B2p3/4Pp2/5N2/PPPP2PP/RN...         White       Nf3   \n",
       "13  r1bqkbnr/pppp1ppp/2n5/1B2p3/4NP2/5N2/PPPP1PPP/...         Black       Nc6   \n",
       "14  6k1/5pp1/4pn2/3q4/1Pr5/PN3PPp/3Q3P/3R2K1 b - -...         Black      Qxf3   \n",
       "15    4r2k/pp1R4/6P1/5Nn1/4b1N1/1P6/P6p/5K2 w - - 0 1         White      Rh7+   \n",
       "16                 1r4k1/5pPR/8/8/8/5K2/8/8 w - - 0 1         White      Rh8+   \n",
       "17  1Q6/p1r1kpp1/4p3/3pP3/5Pnp/1P6/P2R2PP/2q3NK b ...         Black     Qxg1+   \n",
       "18               8/3k4/6R1/7p/7P/5PK1/8/2r5 b - - 0 1         Black      Rg1+   \n",
       "19  3r3k/1p2Q2p/3q2p1/p1p5/4p2P/PP6/6P1/5R1K w - -...         White      Rf8+   \n",
       "20  1kr1b2r/5pp1/pq2p2p/4P3/1p1NRP2/2P2N2/P1PQ2PP/...         Black     bxc3+   \n",
       "21  5rk1/p4qpp/3b4/3rp3/2Q5/4B2P/PP3PP1/R2R2K1 b -...         Black     Rxd1+   \n",
       "22  4r1k1/2pr2bp/1p2b3/5p2/Pp6/1P1PR3/2PN2BP/4R1K1...         Black       Bd4   \n",
       "23  4nk2/R4ppp/1r1np3/2N5/5P2/1p1B2P1/7P/6K1 w - -...         White      Nd7+   \n",
       "24  1r4k1/ppr2pp1/4p2p/2Bp2Pn/7P/4PP2/PPP5/2KR3R w...         White       Bd6   \n",
       "25        5kb1/1p2r3/p1pN1K2/8/1P6/8/1P5R/8 b - - 0 1         Black      Re6+   \n",
       "26  3Q4/p4ppk/b3p3/8/1bq5/2p1P2P/5PB1/2R3K1 w - - 0 1         White       Bf1   \n",
       "27                   8/6bN/6p1/7k/8/5K2/8/8 b - - 0 1         Black       Kh6   \n",
       "28  4r1k1/pb3qBp/1p3Pp1/8/3P1R1Q/4p3/PPr3PP/R5K1 w...         White     Qxh7+   \n",
       "29  4r3/ppp3bk/6pp/3P1q2/P5n1/1Q3N1P/1P3PP1/R1B3K1...         Black      Re1+   \n",
       "30  Q5n1/p1R1nk1p/3pNr1r/1p1P1p2/4pP2/4NbPB/PP5K/6...         Black     Rxh3+   \n",
       "31    1r4k1/5np1/3pN2p/2pq4/4N3/6PK/2Q4P/R7 w - - 0 1         White      Nf6+   \n",
       "32  8/p1r2p1k/4pPrp/q3P1p1/8/2pQ3R/6PP/2R4K w - - 0 1         White     Rxh6+   \n",
       "33  7k/1p1n2q1/3pNb1P/p2Ppr2/P1P5/1P2P3/6P1/4K2R w...         White     hxg7+   \n",
       "\n",
       "                                          Explanation  \n",
       "0   This is the opening principle of controlling t...  \n",
       "1   Developing a knight is a good follow-up to e4....  \n",
       "2   Another developing move. This knight controls ...  \n",
       "3   This recaptures the pawn lost earlier. Black c...  \n",
       "4   This captures the center pawn, challenging Whi...  \n",
       "5   White defends the e4 pawn and prepares to cast...  \n",
       "6   Black develops the knight and defends the d5-p...  \n",
       "7   White prepares for castling and fights for cen...  \n",
       "8   Black develops the bishop and prepares ...0-0....  \n",
       "9   Black castles queenside for safety and activat...  \n",
       "10  White expands their position and fights for sp...  \n",
       "11  Black challenges White's control over the cent...  \n",
       "12  White develops the knight and defends the e4-p...  \n",
       "13  Black develops the knight and defends the d5-p...  \n",
       "14  The black queen captures White's pawn, which w...  \n",
       "15  Knight blocks h7 after recapturing leading to ...  \n",
       "16      The white rook skewers Black's king and rook.  \n",
       "17               The black queen decoys White's king.  \n",
       "18      The black rook skewers White's king and rook.  \n",
       "19  The white rook deflects Black's rook away from...  \n",
       "20        With a discovered check by the black queen.  \n",
       "21  With a discovered attack by the black queen on...  \n",
       "22  The black bishop pins White's rook against Whi...  \n",
       "23      The white knight forks Black's king and rook.  \n",
       "24    The white bishop skewers Black's rook and rook.  \n",
       "25      The black rook forks White's king and knight.  \n",
       "26  The white bishop skewers Black's queen and bis...  \n",
       "27  The black king attacks White's knight, which i...  \n",
       "28               The white queen decoys Black's king.  \n",
       "29  The black rook decoys White's knight. The blac...  \n",
       "30                The black rook decoys White's king.  \n",
       "31  The white knight clears the way for White's qu...  \n",
       "32                The white rook decoys Black's king.  \n",
       "33  Double check The white pawn captures Black's q...  "
      ]
     },
     "execution_count": 5,
     "metadata": {},
     "output_type": "execute_result"
    }
   ],
   "source": [
    "# turn csv to dataframe\n",
    "df = pd.read_csv(\"/kaggle/input/chess-puzzle-dataset/Chess Puzzle Dataset.csv\")\n",
    "df"
   ]
  },
  {
   "cell_type": "code",
   "execution_count": 6,
   "id": "3fab607e",
   "metadata": {
    "collapsed": true,
    "execution": {
     "iopub.execute_input": "2024-07-28T14:30:46.368234Z",
     "iopub.status.busy": "2024-07-28T14:30:46.367966Z",
     "iopub.status.idle": "2024-07-28T14:30:46.384575Z",
     "shell.execute_reply": "2024-07-28T14:30:46.383704Z"
    },
    "jupyter": {
     "outputs_hidden": true
    },
    "papermill": {
     "duration": 0.025995,
     "end_time": "2024-07-28T14:30:46.386495",
     "exception": false,
     "start_time": "2024-07-28T14:30:46.360500",
     "status": "completed"
    },
    "tags": []
   },
   "outputs": [
    {
     "data": {
      "text/html": [
       "<div>\n",
       "<style scoped>\n",
       "    .dataframe tbody tr th:only-of-type {\n",
       "        vertical-align: middle;\n",
       "    }\n",
       "\n",
       "    .dataframe tbody tr th {\n",
       "        vertical-align: top;\n",
       "    }\n",
       "\n",
       "    .dataframe thead th {\n",
       "        text-align: right;\n",
       "    }\n",
       "</style>\n",
       "<table border=\"1\" class=\"dataframe\">\n",
       "  <thead>\n",
       "    <tr style=\"text-align: right;\">\n",
       "      <th></th>\n",
       "      <th>FEN</th>\n",
       "      <th>Player's Turn</th>\n",
       "      <th>Best Move</th>\n",
       "      <th>Explanation</th>\n",
       "      <th>Response</th>\n",
       "    </tr>\n",
       "  </thead>\n",
       "  <tbody>\n",
       "    <tr>\n",
       "      <th>0</th>\n",
       "      <td>rnbqk2r/pppp1ppp/2n5/1B2p3/4P3/5N2/PPPP1PPP/RN...</td>\n",
       "      <td>White</td>\n",
       "      <td>e4</td>\n",
       "      <td>This is the opening principle of controlling t...</td>\n",
       "      <td>The best move is e4 because This is the openin...</td>\n",
       "    </tr>\n",
       "    <tr>\n",
       "      <th>1</th>\n",
       "      <td>r1bqkbnr/pppp1ppp/2n5/4P3/5N2/P6/1PPPPPPP/RNBQ...</td>\n",
       "      <td>Black</td>\n",
       "      <td>c6</td>\n",
       "      <td>Developing a knight is a good follow-up to e4....</td>\n",
       "      <td>The best move is c6 because Developing a knigh...</td>\n",
       "    </tr>\n",
       "    <tr>\n",
       "      <th>2</th>\n",
       "      <td>rnbqk2r/pppp1ppp/2n5/1B2p3/4P3/5N2/PPPP1PPP/RN...</td>\n",
       "      <td>White</td>\n",
       "      <td>Nf3</td>\n",
       "      <td>Another developing move. This knight controls ...</td>\n",
       "      <td>The best move is Nf3 because Another developin...</td>\n",
       "    </tr>\n",
       "    <tr>\n",
       "      <th>3</th>\n",
       "      <td>r1bqkbnr/pppp1ppp/2n5/3Pp3/4N3/P6/1PPPPPPP/RNB...</td>\n",
       "      <td>Black</td>\n",
       "      <td>dxe4</td>\n",
       "      <td>This recaptures the pawn lost earlier. Black c...</td>\n",
       "      <td>The best move is dxe4 because This recaptures ...</td>\n",
       "    </tr>\n",
       "    <tr>\n",
       "      <th>4</th>\n",
       "      <td>r1bqkbnr/pppp1ppp/2n5/1B2p3/4P3/5N2/PPPP1PPP/R...</td>\n",
       "      <td>Black</td>\n",
       "      <td>dxe4</td>\n",
       "      <td>This captures the center pawn, challenging Whi...</td>\n",
       "      <td>The best move is dxe4 because This captures th...</td>\n",
       "    </tr>\n",
       "    <tr>\n",
       "      <th>5</th>\n",
       "      <td>rnbqk2r/pppp1ppp/4n3/2B1p3/4P3/5N2/PPPP1PPP/RN...</td>\n",
       "      <td>White</td>\n",
       "      <td>Nc3</td>\n",
       "      <td>White defends the e4 pawn and prepares to cast...</td>\n",
       "      <td>The best move is Nc3 because White defends the...</td>\n",
       "    </tr>\n",
       "    <tr>\n",
       "      <th>6</th>\n",
       "      <td>r1bqkbnr/pppp1ppp/2n5/4P3/4N2/P6/1PPPPPPP/RNBQ...</td>\n",
       "      <td>Black</td>\n",
       "      <td>Nf6</td>\n",
       "      <td>Black develops the knight and defends the d5-p...</td>\n",
       "      <td>The best move is Nf6 because Black develops th...</td>\n",
       "    </tr>\n",
       "    <tr>\n",
       "      <th>7</th>\n",
       "      <td>rnbqk2r/pppp1ppp/4n3/2B1p3/4P3/5N2/PPPP1PPP/RN...</td>\n",
       "      <td>White</td>\n",
       "      <td>d3</td>\n",
       "      <td>White prepares for castling and fights for cen...</td>\n",
       "      <td>The best move is d3 because White prepares for...</td>\n",
       "    </tr>\n",
       "    <tr>\n",
       "      <th>8</th>\n",
       "      <td>r1bqkbnr/pppp2pp/2n5/4P3/3NP3/P6/1PPPPPPP/RNBQ...</td>\n",
       "      <td>Black</td>\n",
       "      <td>Bd7</td>\n",
       "      <td>Black develops the bishop and prepares ...0-0....</td>\n",
       "      <td>The best move is Bd7 because Black develops th...</td>\n",
       "    </tr>\n",
       "    <tr>\n",
       "      <th>9</th>\n",
       "      <td>rnbqk2r/pppp1ppp/4n3/2B1p3/4P3/5N2/PPPP1PPP/RN...</td>\n",
       "      <td>Black</td>\n",
       "      <td>O-O</td>\n",
       "      <td>Black castles queenside for safety and activat...</td>\n",
       "      <td>The best move is O-O because Black castles que...</td>\n",
       "    </tr>\n",
       "    <tr>\n",
       "      <th>10</th>\n",
       "      <td>rnbqk2r/pppp1ppp/4n3/2B1p3/4P3/5N2/PPPP1PPP/RN...</td>\n",
       "      <td>White</td>\n",
       "      <td>f4</td>\n",
       "      <td>White expands their position and fights for sp...</td>\n",
       "      <td>The best move is f4 because White expands thei...</td>\n",
       "    </tr>\n",
       "    <tr>\n",
       "      <th>11</th>\n",
       "      <td>r1bqkbnr/pppp1ppp/2n5/1B2p3/4P3/5N2/PPPP1PPP/R...</td>\n",
       "      <td>Black</td>\n",
       "      <td>e5</td>\n",
       "      <td>Black challenges White's control over the cent...</td>\n",
       "      <td>The best move is e5 because Black challenges W...</td>\n",
       "    </tr>\n",
       "    <tr>\n",
       "      <th>12</th>\n",
       "      <td>rnbqk2r/pppp1ppp/4n3/1B2p3/4Pp2/5N2/PPPP2PP/RN...</td>\n",
       "      <td>White</td>\n",
       "      <td>Nf3</td>\n",
       "      <td>White develops the knight and defends the e4-p...</td>\n",
       "      <td>The best move is Nf3 because White develops th...</td>\n",
       "    </tr>\n",
       "    <tr>\n",
       "      <th>13</th>\n",
       "      <td>r1bqkbnr/pppp1ppp/2n5/1B2p3/4NP2/5N2/PPPP1PPP/...</td>\n",
       "      <td>Black</td>\n",
       "      <td>Nc6</td>\n",
       "      <td>Black develops the knight and defends the d5-p...</td>\n",
       "      <td>The best move is Nc6 because Black develops th...</td>\n",
       "    </tr>\n",
       "    <tr>\n",
       "      <th>14</th>\n",
       "      <td>6k1/5pp1/4pn2/3q4/1Pr5/PN3PPp/3Q3P/3R2K1 b - -...</td>\n",
       "      <td>Black</td>\n",
       "      <td>Qxf3</td>\n",
       "      <td>The black queen captures White's pawn, which w...</td>\n",
       "      <td>The best move is Qxf3 because The black queen ...</td>\n",
       "    </tr>\n",
       "    <tr>\n",
       "      <th>15</th>\n",
       "      <td>4r2k/pp1R4/6P1/5Nn1/4b1N1/1P6/P6p/5K2 w - - 0 1</td>\n",
       "      <td>White</td>\n",
       "      <td>Rh7+</td>\n",
       "      <td>Knight blocks h7 after recapturing leading to ...</td>\n",
       "      <td>The best move is Rh7+ because Knight blocks h7...</td>\n",
       "    </tr>\n",
       "    <tr>\n",
       "      <th>16</th>\n",
       "      <td>1r4k1/5pPR/8/8/8/5K2/8/8 w - - 0 1</td>\n",
       "      <td>White</td>\n",
       "      <td>Rh8+</td>\n",
       "      <td>The white rook skewers Black's king and rook.</td>\n",
       "      <td>The best move is Rh8+ because The white rook s...</td>\n",
       "    </tr>\n",
       "    <tr>\n",
       "      <th>17</th>\n",
       "      <td>1Q6/p1r1kpp1/4p3/3pP3/5Pnp/1P6/P2R2PP/2q3NK b ...</td>\n",
       "      <td>Black</td>\n",
       "      <td>Qxg1+</td>\n",
       "      <td>The black queen decoys White's king.</td>\n",
       "      <td>The best move is Qxg1+ because The black queen...</td>\n",
       "    </tr>\n",
       "    <tr>\n",
       "      <th>18</th>\n",
       "      <td>8/3k4/6R1/7p/7P/5PK1/8/2r5 b - - 0 1</td>\n",
       "      <td>Black</td>\n",
       "      <td>Rg1+</td>\n",
       "      <td>The black rook skewers White's king and rook.</td>\n",
       "      <td>The best move is Rg1+ because The black rook s...</td>\n",
       "    </tr>\n",
       "    <tr>\n",
       "      <th>19</th>\n",
       "      <td>3r3k/1p2Q2p/3q2p1/p1p5/4p2P/PP6/6P1/5R1K w - -...</td>\n",
       "      <td>White</td>\n",
       "      <td>Rf8+</td>\n",
       "      <td>The white rook deflects Black's rook away from...</td>\n",
       "      <td>The best move is Rf8+ because The white rook d...</td>\n",
       "    </tr>\n",
       "    <tr>\n",
       "      <th>20</th>\n",
       "      <td>1kr1b2r/5pp1/pq2p2p/4P3/1p1NRP2/2P2N2/P1PQ2PP/...</td>\n",
       "      <td>Black</td>\n",
       "      <td>bxc3+</td>\n",
       "      <td>With a discovered check by the black queen.</td>\n",
       "      <td>The best move is bxc3+ because With a discover...</td>\n",
       "    </tr>\n",
       "    <tr>\n",
       "      <th>21</th>\n",
       "      <td>5rk1/p4qpp/3b4/3rp3/2Q5/4B2P/PP3PP1/R2R2K1 b -...</td>\n",
       "      <td>Black</td>\n",
       "      <td>Rxd1+</td>\n",
       "      <td>With a discovered attack by the black queen on...</td>\n",
       "      <td>The best move is Rxd1+ because With a discover...</td>\n",
       "    </tr>\n",
       "    <tr>\n",
       "      <th>22</th>\n",
       "      <td>4r1k1/2pr2bp/1p2b3/5p2/Pp6/1P1PR3/2PN2BP/4R1K1...</td>\n",
       "      <td>Black</td>\n",
       "      <td>Bd4</td>\n",
       "      <td>The black bishop pins White's rook against Whi...</td>\n",
       "      <td>The best move is Bd4 because The black bishop ...</td>\n",
       "    </tr>\n",
       "    <tr>\n",
       "      <th>23</th>\n",
       "      <td>4nk2/R4ppp/1r1np3/2N5/5P2/1p1B2P1/7P/6K1 w - -...</td>\n",
       "      <td>White</td>\n",
       "      <td>Nd7+</td>\n",
       "      <td>The white knight forks Black's king and rook.</td>\n",
       "      <td>The best move is Nd7+ because The white knight...</td>\n",
       "    </tr>\n",
       "    <tr>\n",
       "      <th>24</th>\n",
       "      <td>1r4k1/ppr2pp1/4p2p/2Bp2Pn/7P/4PP2/PPP5/2KR3R w...</td>\n",
       "      <td>White</td>\n",
       "      <td>Bd6</td>\n",
       "      <td>The white bishop skewers Black's rook and rook.</td>\n",
       "      <td>The best move is Bd6 because The white bishop ...</td>\n",
       "    </tr>\n",
       "    <tr>\n",
       "      <th>25</th>\n",
       "      <td>5kb1/1p2r3/p1pN1K2/8/1P6/8/1P5R/8 b - - 0 1</td>\n",
       "      <td>Black</td>\n",
       "      <td>Re6+</td>\n",
       "      <td>The black rook forks White's king and knight.</td>\n",
       "      <td>The best move is Re6+ because The black rook f...</td>\n",
       "    </tr>\n",
       "    <tr>\n",
       "      <th>26</th>\n",
       "      <td>3Q4/p4ppk/b3p3/8/1bq5/2p1P2P/5PB1/2R3K1 w - - 0 1</td>\n",
       "      <td>White</td>\n",
       "      <td>Bf1</td>\n",
       "      <td>The white bishop skewers Black's queen and bis...</td>\n",
       "      <td>The best move is Bf1 because The white bishop ...</td>\n",
       "    </tr>\n",
       "    <tr>\n",
       "      <th>27</th>\n",
       "      <td>8/6bN/6p1/7k/8/5K2/8/8 b - - 0 1</td>\n",
       "      <td>Black</td>\n",
       "      <td>Kh6</td>\n",
       "      <td>The black king attacks White's knight, which i...</td>\n",
       "      <td>The best move is Kh6 because The black king at...</td>\n",
       "    </tr>\n",
       "    <tr>\n",
       "      <th>28</th>\n",
       "      <td>4r1k1/pb3qBp/1p3Pp1/8/3P1R1Q/4p3/PPr3PP/R5K1 w...</td>\n",
       "      <td>White</td>\n",
       "      <td>Qxh7+</td>\n",
       "      <td>The white queen decoys Black's king.</td>\n",
       "      <td>The best move is Qxh7+ because The white queen...</td>\n",
       "    </tr>\n",
       "    <tr>\n",
       "      <th>29</th>\n",
       "      <td>4r3/ppp3bk/6pp/3P1q2/P5n1/1Q3N1P/1P3PP1/R1B3K1...</td>\n",
       "      <td>Black</td>\n",
       "      <td>Re1+</td>\n",
       "      <td>The black rook decoys White's knight. The blac...</td>\n",
       "      <td>The best move is Re1+ because The black rook d...</td>\n",
       "    </tr>\n",
       "    <tr>\n",
       "      <th>30</th>\n",
       "      <td>Q5n1/p1R1nk1p/3pNr1r/1p1P1p2/4pP2/4NbPB/PP5K/6...</td>\n",
       "      <td>Black</td>\n",
       "      <td>Rxh3+</td>\n",
       "      <td>The black rook decoys White's king.</td>\n",
       "      <td>The best move is Rxh3+ because The black rook ...</td>\n",
       "    </tr>\n",
       "    <tr>\n",
       "      <th>31</th>\n",
       "      <td>1r4k1/5np1/3pN2p/2pq4/4N3/6PK/2Q4P/R7 w - - 0 1</td>\n",
       "      <td>White</td>\n",
       "      <td>Nf6+</td>\n",
       "      <td>The white knight clears the way for White's qu...</td>\n",
       "      <td>The best move is Nf6+ because The white knight...</td>\n",
       "    </tr>\n",
       "    <tr>\n",
       "      <th>32</th>\n",
       "      <td>8/p1r2p1k/4pPrp/q3P1p1/8/2pQ3R/6PP/2R4K w - - 0 1</td>\n",
       "      <td>White</td>\n",
       "      <td>Rxh6+</td>\n",
       "      <td>The white rook decoys Black's king.</td>\n",
       "      <td>The best move is Rxh6+ because The white rook ...</td>\n",
       "    </tr>\n",
       "    <tr>\n",
       "      <th>33</th>\n",
       "      <td>7k/1p1n2q1/3pNb1P/p2Ppr2/P1P5/1P2P3/6P1/4K2R w...</td>\n",
       "      <td>White</td>\n",
       "      <td>hxg7+</td>\n",
       "      <td>Double check The white pawn captures Black's q...</td>\n",
       "      <td>The best move is hxg7+ because Double check Th...</td>\n",
       "    </tr>\n",
       "  </tbody>\n",
       "</table>\n",
       "</div>"
      ],
      "text/plain": [
       "                                                  FEN Player's Turn Best Move  \\\n",
       "0   rnbqk2r/pppp1ppp/2n5/1B2p3/4P3/5N2/PPPP1PPP/RN...         White        e4   \n",
       "1   r1bqkbnr/pppp1ppp/2n5/4P3/5N2/P6/1PPPPPPP/RNBQ...         Black        c6   \n",
       "2   rnbqk2r/pppp1ppp/2n5/1B2p3/4P3/5N2/PPPP1PPP/RN...         White       Nf3   \n",
       "3   r1bqkbnr/pppp1ppp/2n5/3Pp3/4N3/P6/1PPPPPPP/RNB...         Black      dxe4   \n",
       "4   r1bqkbnr/pppp1ppp/2n5/1B2p3/4P3/5N2/PPPP1PPP/R...         Black      dxe4   \n",
       "5   rnbqk2r/pppp1ppp/4n3/2B1p3/4P3/5N2/PPPP1PPP/RN...         White       Nc3   \n",
       "6   r1bqkbnr/pppp1ppp/2n5/4P3/4N2/P6/1PPPPPPP/RNBQ...         Black       Nf6   \n",
       "7   rnbqk2r/pppp1ppp/4n3/2B1p3/4P3/5N2/PPPP1PPP/RN...         White        d3   \n",
       "8   r1bqkbnr/pppp2pp/2n5/4P3/3NP3/P6/1PPPPPPP/RNBQ...         Black       Bd7   \n",
       "9   rnbqk2r/pppp1ppp/4n3/2B1p3/4P3/5N2/PPPP1PPP/RN...         Black       O-O   \n",
       "10  rnbqk2r/pppp1ppp/4n3/2B1p3/4P3/5N2/PPPP1PPP/RN...         White        f4   \n",
       "11  r1bqkbnr/pppp1ppp/2n5/1B2p3/4P3/5N2/PPPP1PPP/R...         Black        e5   \n",
       "12  rnbqk2r/pppp1ppp/4n3/1B2p3/4Pp2/5N2/PPPP2PP/RN...         White       Nf3   \n",
       "13  r1bqkbnr/pppp1ppp/2n5/1B2p3/4NP2/5N2/PPPP1PPP/...         Black       Nc6   \n",
       "14  6k1/5pp1/4pn2/3q4/1Pr5/PN3PPp/3Q3P/3R2K1 b - -...         Black      Qxf3   \n",
       "15    4r2k/pp1R4/6P1/5Nn1/4b1N1/1P6/P6p/5K2 w - - 0 1         White      Rh7+   \n",
       "16                 1r4k1/5pPR/8/8/8/5K2/8/8 w - - 0 1         White      Rh8+   \n",
       "17  1Q6/p1r1kpp1/4p3/3pP3/5Pnp/1P6/P2R2PP/2q3NK b ...         Black     Qxg1+   \n",
       "18               8/3k4/6R1/7p/7P/5PK1/8/2r5 b - - 0 1         Black      Rg1+   \n",
       "19  3r3k/1p2Q2p/3q2p1/p1p5/4p2P/PP6/6P1/5R1K w - -...         White      Rf8+   \n",
       "20  1kr1b2r/5pp1/pq2p2p/4P3/1p1NRP2/2P2N2/P1PQ2PP/...         Black     bxc3+   \n",
       "21  5rk1/p4qpp/3b4/3rp3/2Q5/4B2P/PP3PP1/R2R2K1 b -...         Black     Rxd1+   \n",
       "22  4r1k1/2pr2bp/1p2b3/5p2/Pp6/1P1PR3/2PN2BP/4R1K1...         Black       Bd4   \n",
       "23  4nk2/R4ppp/1r1np3/2N5/5P2/1p1B2P1/7P/6K1 w - -...         White      Nd7+   \n",
       "24  1r4k1/ppr2pp1/4p2p/2Bp2Pn/7P/4PP2/PPP5/2KR3R w...         White       Bd6   \n",
       "25        5kb1/1p2r3/p1pN1K2/8/1P6/8/1P5R/8 b - - 0 1         Black      Re6+   \n",
       "26  3Q4/p4ppk/b3p3/8/1bq5/2p1P2P/5PB1/2R3K1 w - - 0 1         White       Bf1   \n",
       "27                   8/6bN/6p1/7k/8/5K2/8/8 b - - 0 1         Black       Kh6   \n",
       "28  4r1k1/pb3qBp/1p3Pp1/8/3P1R1Q/4p3/PPr3PP/R5K1 w...         White     Qxh7+   \n",
       "29  4r3/ppp3bk/6pp/3P1q2/P5n1/1Q3N1P/1P3PP1/R1B3K1...         Black      Re1+   \n",
       "30  Q5n1/p1R1nk1p/3pNr1r/1p1P1p2/4pP2/4NbPB/PP5K/6...         Black     Rxh3+   \n",
       "31    1r4k1/5np1/3pN2p/2pq4/4N3/6PK/2Q4P/R7 w - - 0 1         White      Nf6+   \n",
       "32  8/p1r2p1k/4pPrp/q3P1p1/8/2pQ3R/6PP/2R4K w - - 0 1         White     Rxh6+   \n",
       "33  7k/1p1n2q1/3pNb1P/p2Ppr2/P1P5/1P2P3/6P1/4K2R w...         White     hxg7+   \n",
       "\n",
       "                                          Explanation  \\\n",
       "0   This is the opening principle of controlling t...   \n",
       "1   Developing a knight is a good follow-up to e4....   \n",
       "2   Another developing move. This knight controls ...   \n",
       "3   This recaptures the pawn lost earlier. Black c...   \n",
       "4   This captures the center pawn, challenging Whi...   \n",
       "5   White defends the e4 pawn and prepares to cast...   \n",
       "6   Black develops the knight and defends the d5-p...   \n",
       "7   White prepares for castling and fights for cen...   \n",
       "8   Black develops the bishop and prepares ...0-0....   \n",
       "9   Black castles queenside for safety and activat...   \n",
       "10  White expands their position and fights for sp...   \n",
       "11  Black challenges White's control over the cent...   \n",
       "12  White develops the knight and defends the e4-p...   \n",
       "13  Black develops the knight and defends the d5-p...   \n",
       "14  The black queen captures White's pawn, which w...   \n",
       "15  Knight blocks h7 after recapturing leading to ...   \n",
       "16      The white rook skewers Black's king and rook.   \n",
       "17               The black queen decoys White's king.   \n",
       "18      The black rook skewers White's king and rook.   \n",
       "19  The white rook deflects Black's rook away from...   \n",
       "20        With a discovered check by the black queen.   \n",
       "21  With a discovered attack by the black queen on...   \n",
       "22  The black bishop pins White's rook against Whi...   \n",
       "23      The white knight forks Black's king and rook.   \n",
       "24    The white bishop skewers Black's rook and rook.   \n",
       "25      The black rook forks White's king and knight.   \n",
       "26  The white bishop skewers Black's queen and bis...   \n",
       "27  The black king attacks White's knight, which i...   \n",
       "28               The white queen decoys Black's king.   \n",
       "29  The black rook decoys White's knight. The blac...   \n",
       "30                The black rook decoys White's king.   \n",
       "31  The white knight clears the way for White's qu...   \n",
       "32                The white rook decoys Black's king.   \n",
       "33  Double check The white pawn captures Black's q...   \n",
       "\n",
       "                                             Response  \n",
       "0   The best move is e4 because This is the openin...  \n",
       "1   The best move is c6 because Developing a knigh...  \n",
       "2   The best move is Nf3 because Another developin...  \n",
       "3   The best move is dxe4 because This recaptures ...  \n",
       "4   The best move is dxe4 because This captures th...  \n",
       "5   The best move is Nc3 because White defends the...  \n",
       "6   The best move is Nf6 because Black develops th...  \n",
       "7   The best move is d3 because White prepares for...  \n",
       "8   The best move is Bd7 because Black develops th...  \n",
       "9   The best move is O-O because Black castles que...  \n",
       "10  The best move is f4 because White expands thei...  \n",
       "11  The best move is e5 because Black challenges W...  \n",
       "12  The best move is Nf3 because White develops th...  \n",
       "13  The best move is Nc6 because Black develops th...  \n",
       "14  The best move is Qxf3 because The black queen ...  \n",
       "15  The best move is Rh7+ because Knight blocks h7...  \n",
       "16  The best move is Rh8+ because The white rook s...  \n",
       "17  The best move is Qxg1+ because The black queen...  \n",
       "18  The best move is Rg1+ because The black rook s...  \n",
       "19  The best move is Rf8+ because The white rook d...  \n",
       "20  The best move is bxc3+ because With a discover...  \n",
       "21  The best move is Rxd1+ because With a discover...  \n",
       "22  The best move is Bd4 because The black bishop ...  \n",
       "23  The best move is Nd7+ because The white knight...  \n",
       "24  The best move is Bd6 because The white bishop ...  \n",
       "25  The best move is Re6+ because The black rook f...  \n",
       "26  The best move is Bf1 because The white bishop ...  \n",
       "27  The best move is Kh6 because The black king at...  \n",
       "28  The best move is Qxh7+ because The white queen...  \n",
       "29  The best move is Re1+ because The black rook d...  \n",
       "30  The best move is Rxh3+ because The black rook ...  \n",
       "31  The best move is Nf6+ because The white knight...  \n",
       "32  The best move is Rxh6+ because The white rook ...  \n",
       "33  The best move is hxg7+ because Double check Th...  "
      ]
     },
     "execution_count": 6,
     "metadata": {},
     "output_type": "execute_result"
    }
   ],
   "source": [
    "# modify df\n",
    "df['Response'] = \"The best move is \" + df['Best Move'] + \" because \" + df['Explanation']\n",
    "df"
   ]
  },
  {
   "cell_type": "code",
   "execution_count": 7,
   "id": "95f475f4",
   "metadata": {
    "execution": {
     "iopub.execute_input": "2024-07-28T14:30:46.403285Z",
     "iopub.status.busy": "2024-07-28T14:30:46.403026Z",
     "iopub.status.idle": "2024-07-28T14:30:46.410629Z",
     "shell.execute_reply": "2024-07-28T14:30:46.409864Z"
    },
    "papermill": {
     "duration": 0.019128,
     "end_time": "2024-07-28T14:30:46.412931",
     "exception": false,
     "start_time": "2024-07-28T14:30:46.393803",
     "status": "completed"
    },
    "tags": []
   },
   "outputs": [
    {
     "name": "stdout",
     "output_type": "stream",
     "text": [
      "Explain what is the best move as White given the FEN position: 7k/1p1n2q1/3pNb1P/p2Ppr2/P1P5/1P2P3/6P1/4K2R w K - 0 1\n",
      "Response: The best move is hxg7+ because Double check The white pawn captures Black's queen, which was defending the square g8.\n"
     ]
    }
   ],
   "source": [
    "data = []\n",
    "for index, row in df.iterrows():\n",
    "    template = \"Explain what is the best move as {player_turn} given the FEN position: {fen}\\nResponse: {response}\"\n",
    "    formatted_string = template.format(\n",
    "        player_turn=row[\"Player's Turn\"],\n",
    "        fen=row[\"FEN\"],\n",
    "        response=row[\"Response\"]\n",
    "    )\n",
    "    data.append(formatted_string)\n",
    "\n",
    "print(data[-1])\n"
   ]
  },
  {
   "cell_type": "code",
   "execution_count": 8,
   "id": "33b99153",
   "metadata": {
    "collapsed": true,
    "execution": {
     "iopub.execute_input": "2024-07-28T14:30:46.428894Z",
     "iopub.status.busy": "2024-07-28T14:30:46.428620Z",
     "iopub.status.idle": "2024-07-28T14:31:54.058684Z",
     "shell.execute_reply": "2024-07-28T14:31:54.057838Z"
    },
    "jupyter": {
     "outputs_hidden": true
    },
    "papermill": {
     "duration": 67.640306,
     "end_time": "2024-07-28T14:31:54.060568",
     "exception": false,
     "start_time": "2024-07-28T14:30:46.420262",
     "status": "completed"
    },
    "tags": []
   },
   "outputs": [
    {
     "name": "stderr",
     "output_type": "stream",
     "text": [
      "Attaching 'model.safetensors' from model 'keras/gemma/keras/gemma_2b_en/2' to your Kaggle notebook...\n",
      "Attaching 'model.safetensors.index.json' from model 'keras/gemma/keras/gemma_2b_en/2' to your Kaggle notebook...\n",
      "Attaching 'metadata.json' from model 'keras/gemma/keras/gemma_2b_en/2' to your Kaggle notebook...\n",
      "Attaching 'metadata.json' from model 'keras/gemma/keras/gemma_2b_en/2' to your Kaggle notebook...\n",
      "Attaching 'task.json' from model 'keras/gemma/keras/gemma_2b_en/2' to your Kaggle notebook...\n",
      "Attaching 'config.json' from model 'keras/gemma/keras/gemma_2b_en/2' to your Kaggle notebook...\n",
      "Attaching 'model.safetensors' from model 'keras/gemma/keras/gemma_2b_en/2' to your Kaggle notebook...\n",
      "Attaching 'model.safetensors.index.json' from model 'keras/gemma/keras/gemma_2b_en/2' to your Kaggle notebook...\n",
      "Attaching 'metadata.json' from model 'keras/gemma/keras/gemma_2b_en/2' to your Kaggle notebook...\n",
      "Attaching 'metadata.json' from model 'keras/gemma/keras/gemma_2b_en/2' to your Kaggle notebook...\n",
      "Attaching 'config.json' from model 'keras/gemma/keras/gemma_2b_en/2' to your Kaggle notebook...\n",
      "Attaching 'config.json' from model 'keras/gemma/keras/gemma_2b_en/2' to your Kaggle notebook...\n",
      "Attaching 'model.weights.h5' from model 'keras/gemma/keras/gemma_2b_en/2' to your Kaggle notebook...\n",
      "Attaching 'model.safetensors' from model 'keras/gemma/keras/gemma_2b_en/2' to your Kaggle notebook...\n",
      "Attaching 'model.safetensors.index.json' from model 'keras/gemma/keras/gemma_2b_en/2' to your Kaggle notebook...\n",
      "Attaching 'metadata.json' from model 'keras/gemma/keras/gemma_2b_en/2' to your Kaggle notebook...\n",
      "Attaching 'metadata.json' from model 'keras/gemma/keras/gemma_2b_en/2' to your Kaggle notebook...\n",
      "Attaching 'preprocessor.json' from model 'keras/gemma/keras/gemma_2b_en/2' to your Kaggle notebook...\n",
      "Attaching 'tokenizer.json' from model 'keras/gemma/keras/gemma_2b_en/2' to your Kaggle notebook...\n",
      "Attaching 'tokenizer.json' from model 'keras/gemma/keras/gemma_2b_en/2' to your Kaggle notebook...\n",
      "Attaching 'assets/tokenizer/vocabulary.spm' from model 'keras/gemma/keras/gemma_2b_en/2' to your Kaggle notebook...\n",
      "normalizer.cc(51) LOG(INFO) precompiled_charsmap is empty. use identity normalization.\n"
     ]
    },
    {
     "data": {
      "text/html": [
       "<pre style=\"white-space:pre;overflow-x:auto;line-height:normal;font-family:Menlo,'DejaVu Sans Mono',consolas,'Courier New',monospace\"><span style=\"font-weight: bold\">Preprocessor: \"gemma_causal_lm_preprocessor\"</span>\n",
       "</pre>\n"
      ],
      "text/plain": [
       "\u001b[1mPreprocessor: \"gemma_causal_lm_preprocessor\"\u001b[0m\n"
      ]
     },
     "metadata": {},
     "output_type": "display_data"
    },
    {
     "data": {
      "text/html": [
       "<pre style=\"white-space:pre;overflow-x:auto;line-height:normal;font-family:Menlo,'DejaVu Sans Mono',consolas,'Courier New',monospace\">┏━━━━━━━━━━━━━━━━━━━━━━━━━━━━━━━━━━━━━━━━━━━━━━━━━━━━┳━━━━━━━━━━━━━━━━━━━━━━━━━━━━━━━━━━━━━━━━━━━━━━━━━━━━━┓\n",
       "┃<span style=\"font-weight: bold\"> Tokenizer (type)                                   </span>┃<span style=\"font-weight: bold\">                                             Vocab # </span>┃\n",
       "┡━━━━━━━━━━━━━━━━━━━━━━━━━━━━━━━━━━━━━━━━━━━━━━━━━━━━╇━━━━━━━━━━━━━━━━━━━━━━━━━━━━━━━━━━━━━━━━━━━━━━━━━━━━━┩\n",
       "│ gemma_tokenizer (<span style=\"color: #0087ff; text-decoration-color: #0087ff\">GemmaTokenizer</span>)                   │                                             <span style=\"color: #00af00; text-decoration-color: #00af00\">256,000</span> │\n",
       "└────────────────────────────────────────────────────┴─────────────────────────────────────────────────────┘\n",
       "</pre>\n"
      ],
      "text/plain": [
       "┏━━━━━━━━━━━━━━━━━━━━━━━━━━━━━━━━━━━━━━━━━━━━━━━━━━━━┳━━━━━━━━━━━━━━━━━━━━━━━━━━━━━━━━━━━━━━━━━━━━━━━━━━━━━┓\n",
       "┃\u001b[1m \u001b[0m\u001b[1mTokenizer (type)                                  \u001b[0m\u001b[1m \u001b[0m┃\u001b[1m \u001b[0m\u001b[1m                                            Vocab #\u001b[0m\u001b[1m \u001b[0m┃\n",
       "┡━━━━━━━━━━━━━━━━━━━━━━━━━━━━━━━━━━━━━━━━━━━━━━━━━━━━╇━━━━━━━━━━━━━━━━━━━━━━━━━━━━━━━━━━━━━━━━━━━━━━━━━━━━━┩\n",
       "│ gemma_tokenizer (\u001b[38;5;33mGemmaTokenizer\u001b[0m)                   │                                             \u001b[38;5;34m256,000\u001b[0m │\n",
       "└────────────────────────────────────────────────────┴─────────────────────────────────────────────────────┘\n"
      ]
     },
     "metadata": {},
     "output_type": "display_data"
    },
    {
     "data": {
      "text/html": [
       "<pre style=\"white-space:pre;overflow-x:auto;line-height:normal;font-family:Menlo,'DejaVu Sans Mono',consolas,'Courier New',monospace\"><span style=\"font-weight: bold\">Model: \"gemma_causal_lm\"</span>\n",
       "</pre>\n"
      ],
      "text/plain": [
       "\u001b[1mModel: \"gemma_causal_lm\"\u001b[0m\n"
      ]
     },
     "metadata": {},
     "output_type": "display_data"
    },
    {
     "data": {
      "text/html": [
       "<pre style=\"white-space:pre;overflow-x:auto;line-height:normal;font-family:Menlo,'DejaVu Sans Mono',consolas,'Courier New',monospace\">┏━━━━━━━━━━━━━━━━━━━━━━━━━━━━━━━┳━━━━━━━━━━━━━━━━━━━━━━━━━━━┳━━━━━━━━━━━━━━━━━┳━━━━━━━━━━━━━━━━━━━━━━━━━━━━┓\n",
       "┃<span style=\"font-weight: bold\"> Layer (type)                  </span>┃<span style=\"font-weight: bold\"> Output Shape              </span>┃<span style=\"font-weight: bold\">         Param # </span>┃<span style=\"font-weight: bold\"> Connected to               </span>┃\n",
       "┡━━━━━━━━━━━━━━━━━━━━━━━━━━━━━━━╇━━━━━━━━━━━━━━━━━━━━━━━━━━━╇━━━━━━━━━━━━━━━━━╇━━━━━━━━━━━━━━━━━━━━━━━━━━━━┩\n",
       "│ padding_mask (<span style=\"color: #0087ff; text-decoration-color: #0087ff\">InputLayer</span>)     │ (<span style=\"color: #00d7ff; text-decoration-color: #00d7ff\">None</span>, <span style=\"color: #00d7ff; text-decoration-color: #00d7ff\">None</span>)              │               <span style=\"color: #00af00; text-decoration-color: #00af00\">0</span> │ -                          │\n",
       "├───────────────────────────────┼───────────────────────────┼─────────────────┼────────────────────────────┤\n",
       "│ token_ids (<span style=\"color: #0087ff; text-decoration-color: #0087ff\">InputLayer</span>)        │ (<span style=\"color: #00d7ff; text-decoration-color: #00d7ff\">None</span>, <span style=\"color: #00d7ff; text-decoration-color: #00d7ff\">None</span>)              │               <span style=\"color: #00af00; text-decoration-color: #00af00\">0</span> │ -                          │\n",
       "├───────────────────────────────┼───────────────────────────┼─────────────────┼────────────────────────────┤\n",
       "│ gemma_backbone                │ (<span style=\"color: #00d7ff; text-decoration-color: #00d7ff\">None</span>, <span style=\"color: #00d7ff; text-decoration-color: #00d7ff\">None</span>, <span style=\"color: #00af00; text-decoration-color: #00af00\">2048</span>)        │   <span style=\"color: #00af00; text-decoration-color: #00af00\">2,506,172,416</span> │ padding_mask[<span style=\"color: #00af00; text-decoration-color: #00af00\">0</span>][<span style=\"color: #00af00; text-decoration-color: #00af00\">0</span>],        │\n",
       "│ (<span style=\"color: #0087ff; text-decoration-color: #0087ff\">GemmaBackbone</span>)               │                           │                 │ token_ids[<span style=\"color: #00af00; text-decoration-color: #00af00\">0</span>][<span style=\"color: #00af00; text-decoration-color: #00af00\">0</span>]            │\n",
       "├───────────────────────────────┼───────────────────────────┼─────────────────┼────────────────────────────┤\n",
       "│ token_embedding               │ (<span style=\"color: #00d7ff; text-decoration-color: #00d7ff\">None</span>, <span style=\"color: #00d7ff; text-decoration-color: #00d7ff\">None</span>, <span style=\"color: #00af00; text-decoration-color: #00af00\">256000</span>)      │     <span style=\"color: #00af00; text-decoration-color: #00af00\">524,288,000</span> │ gemma_backbone[<span style=\"color: #00af00; text-decoration-color: #00af00\">0</span>][<span style=\"color: #00af00; text-decoration-color: #00af00\">0</span>]       │\n",
       "│ (<span style=\"color: #0087ff; text-decoration-color: #0087ff\">ReversibleEmbedding</span>)         │                           │                 │                            │\n",
       "└───────────────────────────────┴───────────────────────────┴─────────────────┴────────────────────────────┘\n",
       "</pre>\n"
      ],
      "text/plain": [
       "┏━━━━━━━━━━━━━━━━━━━━━━━━━━━━━━━┳━━━━━━━━━━━━━━━━━━━━━━━━━━━┳━━━━━━━━━━━━━━━━━┳━━━━━━━━━━━━━━━━━━━━━━━━━━━━┓\n",
       "┃\u001b[1m \u001b[0m\u001b[1mLayer (type)                 \u001b[0m\u001b[1m \u001b[0m┃\u001b[1m \u001b[0m\u001b[1mOutput Shape             \u001b[0m\u001b[1m \u001b[0m┃\u001b[1m \u001b[0m\u001b[1m        Param #\u001b[0m\u001b[1m \u001b[0m┃\u001b[1m \u001b[0m\u001b[1mConnected to              \u001b[0m\u001b[1m \u001b[0m┃\n",
       "┡━━━━━━━━━━━━━━━━━━━━━━━━━━━━━━━╇━━━━━━━━━━━━━━━━━━━━━━━━━━━╇━━━━━━━━━━━━━━━━━╇━━━━━━━━━━━━━━━━━━━━━━━━━━━━┩\n",
       "│ padding_mask (\u001b[38;5;33mInputLayer\u001b[0m)     │ (\u001b[38;5;45mNone\u001b[0m, \u001b[38;5;45mNone\u001b[0m)              │               \u001b[38;5;34m0\u001b[0m │ -                          │\n",
       "├───────────────────────────────┼───────────────────────────┼─────────────────┼────────────────────────────┤\n",
       "│ token_ids (\u001b[38;5;33mInputLayer\u001b[0m)        │ (\u001b[38;5;45mNone\u001b[0m, \u001b[38;5;45mNone\u001b[0m)              │               \u001b[38;5;34m0\u001b[0m │ -                          │\n",
       "├───────────────────────────────┼───────────────────────────┼─────────────────┼────────────────────────────┤\n",
       "│ gemma_backbone                │ (\u001b[38;5;45mNone\u001b[0m, \u001b[38;5;45mNone\u001b[0m, \u001b[38;5;34m2048\u001b[0m)        │   \u001b[38;5;34m2,506,172,416\u001b[0m │ padding_mask[\u001b[38;5;34m0\u001b[0m][\u001b[38;5;34m0\u001b[0m],        │\n",
       "│ (\u001b[38;5;33mGemmaBackbone\u001b[0m)               │                           │                 │ token_ids[\u001b[38;5;34m0\u001b[0m][\u001b[38;5;34m0\u001b[0m]            │\n",
       "├───────────────────────────────┼───────────────────────────┼─────────────────┼────────────────────────────┤\n",
       "│ token_embedding               │ (\u001b[38;5;45mNone\u001b[0m, \u001b[38;5;45mNone\u001b[0m, \u001b[38;5;34m256000\u001b[0m)      │     \u001b[38;5;34m524,288,000\u001b[0m │ gemma_backbone[\u001b[38;5;34m0\u001b[0m][\u001b[38;5;34m0\u001b[0m]       │\n",
       "│ (\u001b[38;5;33mReversibleEmbedding\u001b[0m)         │                           │                 │                            │\n",
       "└───────────────────────────────┴───────────────────────────┴─────────────────┴────────────────────────────┘\n"
      ]
     },
     "metadata": {},
     "output_type": "display_data"
    },
    {
     "data": {
      "text/html": [
       "<pre style=\"white-space:pre;overflow-x:auto;line-height:normal;font-family:Menlo,'DejaVu Sans Mono',consolas,'Courier New',monospace\"><span style=\"font-weight: bold\"> Total params: </span><span style=\"color: #00af00; text-decoration-color: #00af00\">2,506,172,416</span> (9.34 GB)\n",
       "</pre>\n"
      ],
      "text/plain": [
       "\u001b[1m Total params: \u001b[0m\u001b[38;5;34m2,506,172,416\u001b[0m (9.34 GB)\n"
      ]
     },
     "metadata": {},
     "output_type": "display_data"
    },
    {
     "data": {
      "text/html": [
       "<pre style=\"white-space:pre;overflow-x:auto;line-height:normal;font-family:Menlo,'DejaVu Sans Mono',consolas,'Courier New',monospace\"><span style=\"font-weight: bold\"> Trainable params: </span><span style=\"color: #00af00; text-decoration-color: #00af00\">2,506,172,416</span> (9.34 GB)\n",
       "</pre>\n"
      ],
      "text/plain": [
       "\u001b[1m Trainable params: \u001b[0m\u001b[38;5;34m2,506,172,416\u001b[0m (9.34 GB)\n"
      ]
     },
     "metadata": {},
     "output_type": "display_data"
    },
    {
     "data": {
      "text/html": [
       "<pre style=\"white-space:pre;overflow-x:auto;line-height:normal;font-family:Menlo,'DejaVu Sans Mono',consolas,'Courier New',monospace\"><span style=\"font-weight: bold\"> Non-trainable params: </span><span style=\"color: #00af00; text-decoration-color: #00af00\">0</span> (0.00 B)\n",
       "</pre>\n"
      ],
      "text/plain": [
       "\u001b[1m Non-trainable params: \u001b[0m\u001b[38;5;34m0\u001b[0m (0.00 B)\n"
      ]
     },
     "metadata": {},
     "output_type": "display_data"
    }
   ],
   "source": [
    "gemma_lm = keras_nlp.models.GemmaCausalLM.from_preset(\"gemma_2b_en\")\n",
    "gemma_lm.summary()"
   ]
  },
  {
   "cell_type": "markdown",
   "id": "6d23ce36",
   "metadata": {
    "papermill": {
     "duration": 0.010075,
     "end_time": "2024-07-28T14:31:54.081118",
     "exception": false,
     "start_time": "2024-07-28T14:31:54.071043",
     "status": "completed"
    },
    "tags": []
   },
   "source": [
    "Testing model without finetuning"
   ]
  },
  {
   "cell_type": "code",
   "execution_count": 9,
   "id": "848728dc",
   "metadata": {
    "execution": {
     "iopub.execute_input": "2024-07-28T14:31:54.102938Z",
     "iopub.status.busy": "2024-07-28T14:31:54.102622Z",
     "iopub.status.idle": "2024-07-28T14:32:28.404990Z",
     "shell.execute_reply": "2024-07-28T14:32:28.404017Z"
    },
    "papermill": {
     "duration": 34.326424,
     "end_time": "2024-07-28T14:32:28.417674",
     "exception": false,
     "start_time": "2024-07-28T14:31:54.091250",
     "status": "completed"
    },
    "tags": []
   },
   "outputs": [
    {
     "name": "stderr",
     "output_type": "stream",
     "text": [
      "WARNING: All log messages before absl::InitializeLog() is called are written to STDERR\n",
      "I0000 00:00:1722177142.144272      25 device_compiler.h:186] Compiled cluster using XLA!  This line is logged at most once for the lifetime of the process.\n",
      "W0000 00:00:1722177142.204896      25 graph_launch.cc:671] Fallback to op-by-op mode because memset node breaks graph update\n",
      "W0000 00:00:1722177142.476224      25 graph_launch.cc:671] Fallback to op-by-op mode because memset node breaks graph update\n"
     ]
    },
    {
     "name": "stdout",
     "output_type": "stream",
     "text": [
      "Explain what is the best move as White given the FEN position: 7k/1p1n2q1/3pNb1P/p2Ppr2/P1P5/1P2P3/6P1/4K2R w K - 0 1\n",
      "Response: 1. Kf6?\n",
      "\n",
      "The position is not the best, but it is not the worst either.\n",
      "\n",
      "I would play 1. Ke7, 2. f4, 3. Kc8+ (I think), 4. Kd7 (I think), 5. Kc8, and then the game will go 5. ... f5 6. Ke7+ and then 6. ... Kf8 (or 6. ... g5 7. f4) and the game will go 6. ... Kf8 7. Kf6+ Kf8 8. Ke6# 0-1 (I think).\n"
     ]
    }
   ],
   "source": [
    "prompt = template.format(\n",
    "        player_turn=\"White\",\n",
    "        fen=\"7k/1p1n2q1/3pNb1P/p2Ppr2/P1P5/1P2P3/6P1/4K2R w K - 0 1\",\n",
    "        response=\"\"\n",
    "    )\n",
    "sampler = keras_nlp.samplers.TopKSampler(k=5, seed=2)\n",
    "gemma_lm.compile(sampler=sampler)\n",
    "print(gemma_lm.generate(prompt, max_length=256))"
   ]
  },
  {
   "cell_type": "code",
   "execution_count": 10,
   "id": "bc703979",
   "metadata": {
    "execution": {
     "iopub.execute_input": "2024-07-28T14:32:28.440013Z",
     "iopub.status.busy": "2024-07-28T14:32:28.439657Z",
     "iopub.status.idle": "2024-07-28T14:32:28.593963Z",
     "shell.execute_reply": "2024-07-28T14:32:28.593113Z"
    },
    "papermill": {
     "duration": 0.167663,
     "end_time": "2024-07-28T14:32:28.595871",
     "exception": false,
     "start_time": "2024-07-28T14:32:28.428208",
     "status": "completed"
    },
    "tags": []
   },
   "outputs": [
    {
     "data": {
      "text/html": [
       "<pre style=\"white-space:pre;overflow-x:auto;line-height:normal;font-family:Menlo,'DejaVu Sans Mono',consolas,'Courier New',monospace\"><span style=\"font-weight: bold\">Preprocessor: \"gemma_causal_lm_preprocessor\"</span>\n",
       "</pre>\n"
      ],
      "text/plain": [
       "\u001b[1mPreprocessor: \"gemma_causal_lm_preprocessor\"\u001b[0m\n"
      ]
     },
     "metadata": {},
     "output_type": "display_data"
    },
    {
     "data": {
      "text/html": [
       "<pre style=\"white-space:pre;overflow-x:auto;line-height:normal;font-family:Menlo,'DejaVu Sans Mono',consolas,'Courier New',monospace\">┏━━━━━━━━━━━━━━━━━━━━━━━━━━━━━━━━━━━━━━━━━━━━━━━━━━━━┳━━━━━━━━━━━━━━━━━━━━━━━━━━━━━━━━━━━━━━━━━━━━━━━━━━━━━┓\n",
       "┃<span style=\"font-weight: bold\"> Tokenizer (type)                                   </span>┃<span style=\"font-weight: bold\">                                             Vocab # </span>┃\n",
       "┡━━━━━━━━━━━━━━━━━━━━━━━━━━━━━━━━━━━━━━━━━━━━━━━━━━━━╇━━━━━━━━━━━━━━━━━━━━━━━━━━━━━━━━━━━━━━━━━━━━━━━━━━━━━┩\n",
       "│ gemma_tokenizer (<span style=\"color: #0087ff; text-decoration-color: #0087ff\">GemmaTokenizer</span>)                   │                                             <span style=\"color: #00af00; text-decoration-color: #00af00\">256,000</span> │\n",
       "└────────────────────────────────────────────────────┴─────────────────────────────────────────────────────┘\n",
       "</pre>\n"
      ],
      "text/plain": [
       "┏━━━━━━━━━━━━━━━━━━━━━━━━━━━━━━━━━━━━━━━━━━━━━━━━━━━━┳━━━━━━━━━━━━━━━━━━━━━━━━━━━━━━━━━━━━━━━━━━━━━━━━━━━━━┓\n",
       "┃\u001b[1m \u001b[0m\u001b[1mTokenizer (type)                                  \u001b[0m\u001b[1m \u001b[0m┃\u001b[1m \u001b[0m\u001b[1m                                            Vocab #\u001b[0m\u001b[1m \u001b[0m┃\n",
       "┡━━━━━━━━━━━━━━━━━━━━━━━━━━━━━━━━━━━━━━━━━━━━━━━━━━━━╇━━━━━━━━━━━━━━━━━━━━━━━━━━━━━━━━━━━━━━━━━━━━━━━━━━━━━┩\n",
       "│ gemma_tokenizer (\u001b[38;5;33mGemmaTokenizer\u001b[0m)                   │                                             \u001b[38;5;34m256,000\u001b[0m │\n",
       "└────────────────────────────────────────────────────┴─────────────────────────────────────────────────────┘\n"
      ]
     },
     "metadata": {},
     "output_type": "display_data"
    },
    {
     "data": {
      "text/html": [
       "<pre style=\"white-space:pre;overflow-x:auto;line-height:normal;font-family:Menlo,'DejaVu Sans Mono',consolas,'Courier New',monospace\"><span style=\"font-weight: bold\">Model: \"gemma_causal_lm\"</span>\n",
       "</pre>\n"
      ],
      "text/plain": [
       "\u001b[1mModel: \"gemma_causal_lm\"\u001b[0m\n"
      ]
     },
     "metadata": {},
     "output_type": "display_data"
    },
    {
     "data": {
      "text/html": [
       "<pre style=\"white-space:pre;overflow-x:auto;line-height:normal;font-family:Menlo,'DejaVu Sans Mono',consolas,'Courier New',monospace\">┏━━━━━━━━━━━━━━━━━━━━━━━━━━━━━━━┳━━━━━━━━━━━━━━━━━━━━━━━━━━━┳━━━━━━━━━━━━━━━━━┳━━━━━━━━━━━━━━━━━━━━━━━━━━━━┓\n",
       "┃<span style=\"font-weight: bold\"> Layer (type)                  </span>┃<span style=\"font-weight: bold\"> Output Shape              </span>┃<span style=\"font-weight: bold\">         Param # </span>┃<span style=\"font-weight: bold\"> Connected to               </span>┃\n",
       "┡━━━━━━━━━━━━━━━━━━━━━━━━━━━━━━━╇━━━━━━━━━━━━━━━━━━━━━━━━━━━╇━━━━━━━━━━━━━━━━━╇━━━━━━━━━━━━━━━━━━━━━━━━━━━━┩\n",
       "│ padding_mask (<span style=\"color: #0087ff; text-decoration-color: #0087ff\">InputLayer</span>)     │ (<span style=\"color: #00d7ff; text-decoration-color: #00d7ff\">None</span>, <span style=\"color: #00d7ff; text-decoration-color: #00d7ff\">None</span>)              │               <span style=\"color: #00af00; text-decoration-color: #00af00\">0</span> │ -                          │\n",
       "├───────────────────────────────┼───────────────────────────┼─────────────────┼────────────────────────────┤\n",
       "│ token_ids (<span style=\"color: #0087ff; text-decoration-color: #0087ff\">InputLayer</span>)        │ (<span style=\"color: #00d7ff; text-decoration-color: #00d7ff\">None</span>, <span style=\"color: #00d7ff; text-decoration-color: #00d7ff\">None</span>)              │               <span style=\"color: #00af00; text-decoration-color: #00af00\">0</span> │ -                          │\n",
       "├───────────────────────────────┼───────────────────────────┼─────────────────┼────────────────────────────┤\n",
       "│ gemma_backbone                │ (<span style=\"color: #00d7ff; text-decoration-color: #00d7ff\">None</span>, <span style=\"color: #00d7ff; text-decoration-color: #00d7ff\">None</span>, <span style=\"color: #00af00; text-decoration-color: #00af00\">2048</span>)        │   <span style=\"color: #00af00; text-decoration-color: #00af00\">2,507,536,384</span> │ padding_mask[<span style=\"color: #00af00; text-decoration-color: #00af00\">0</span>][<span style=\"color: #00af00; text-decoration-color: #00af00\">0</span>],        │\n",
       "│ (<span style=\"color: #0087ff; text-decoration-color: #0087ff\">GemmaBackbone</span>)               │                           │                 │ token_ids[<span style=\"color: #00af00; text-decoration-color: #00af00\">0</span>][<span style=\"color: #00af00; text-decoration-color: #00af00\">0</span>]            │\n",
       "├───────────────────────────────┼───────────────────────────┼─────────────────┼────────────────────────────┤\n",
       "│ token_embedding               │ (<span style=\"color: #00d7ff; text-decoration-color: #00d7ff\">None</span>, <span style=\"color: #00d7ff; text-decoration-color: #00d7ff\">None</span>, <span style=\"color: #00af00; text-decoration-color: #00af00\">256000</span>)      │     <span style=\"color: #00af00; text-decoration-color: #00af00\">524,288,000</span> │ gemma_backbone[<span style=\"color: #00af00; text-decoration-color: #00af00\">0</span>][<span style=\"color: #00af00; text-decoration-color: #00af00\">0</span>]       │\n",
       "│ (<span style=\"color: #0087ff; text-decoration-color: #0087ff\">ReversibleEmbedding</span>)         │                           │                 │                            │\n",
       "└───────────────────────────────┴───────────────────────────┴─────────────────┴────────────────────────────┘\n",
       "</pre>\n"
      ],
      "text/plain": [
       "┏━━━━━━━━━━━━━━━━━━━━━━━━━━━━━━━┳━━━━━━━━━━━━━━━━━━━━━━━━━━━┳━━━━━━━━━━━━━━━━━┳━━━━━━━━━━━━━━━━━━━━━━━━━━━━┓\n",
       "┃\u001b[1m \u001b[0m\u001b[1mLayer (type)                 \u001b[0m\u001b[1m \u001b[0m┃\u001b[1m \u001b[0m\u001b[1mOutput Shape             \u001b[0m\u001b[1m \u001b[0m┃\u001b[1m \u001b[0m\u001b[1m        Param #\u001b[0m\u001b[1m \u001b[0m┃\u001b[1m \u001b[0m\u001b[1mConnected to              \u001b[0m\u001b[1m \u001b[0m┃\n",
       "┡━━━━━━━━━━━━━━━━━━━━━━━━━━━━━━━╇━━━━━━━━━━━━━━━━━━━━━━━━━━━╇━━━━━━━━━━━━━━━━━╇━━━━━━━━━━━━━━━━━━━━━━━━━━━━┩\n",
       "│ padding_mask (\u001b[38;5;33mInputLayer\u001b[0m)     │ (\u001b[38;5;45mNone\u001b[0m, \u001b[38;5;45mNone\u001b[0m)              │               \u001b[38;5;34m0\u001b[0m │ -                          │\n",
       "├───────────────────────────────┼───────────────────────────┼─────────────────┼────────────────────────────┤\n",
       "│ token_ids (\u001b[38;5;33mInputLayer\u001b[0m)        │ (\u001b[38;5;45mNone\u001b[0m, \u001b[38;5;45mNone\u001b[0m)              │               \u001b[38;5;34m0\u001b[0m │ -                          │\n",
       "├───────────────────────────────┼───────────────────────────┼─────────────────┼────────────────────────────┤\n",
       "│ gemma_backbone                │ (\u001b[38;5;45mNone\u001b[0m, \u001b[38;5;45mNone\u001b[0m, \u001b[38;5;34m2048\u001b[0m)        │   \u001b[38;5;34m2,507,536,384\u001b[0m │ padding_mask[\u001b[38;5;34m0\u001b[0m][\u001b[38;5;34m0\u001b[0m],        │\n",
       "│ (\u001b[38;5;33mGemmaBackbone\u001b[0m)               │                           │                 │ token_ids[\u001b[38;5;34m0\u001b[0m][\u001b[38;5;34m0\u001b[0m]            │\n",
       "├───────────────────────────────┼───────────────────────────┼─────────────────┼────────────────────────────┤\n",
       "│ token_embedding               │ (\u001b[38;5;45mNone\u001b[0m, \u001b[38;5;45mNone\u001b[0m, \u001b[38;5;34m256000\u001b[0m)      │     \u001b[38;5;34m524,288,000\u001b[0m │ gemma_backbone[\u001b[38;5;34m0\u001b[0m][\u001b[38;5;34m0\u001b[0m]       │\n",
       "│ (\u001b[38;5;33mReversibleEmbedding\u001b[0m)         │                           │                 │                            │\n",
       "└───────────────────────────────┴───────────────────────────┴─────────────────┴────────────────────────────┘\n"
      ]
     },
     "metadata": {},
     "output_type": "display_data"
    },
    {
     "data": {
      "text/html": [
       "<pre style=\"white-space:pre;overflow-x:auto;line-height:normal;font-family:Menlo,'DejaVu Sans Mono',consolas,'Courier New',monospace\"><span style=\"font-weight: bold\"> Total params: </span><span style=\"color: #00af00; text-decoration-color: #00af00\">2,507,536,384</span> (9.34 GB)\n",
       "</pre>\n"
      ],
      "text/plain": [
       "\u001b[1m Total params: \u001b[0m\u001b[38;5;34m2,507,536,384\u001b[0m (9.34 GB)\n"
      ]
     },
     "metadata": {},
     "output_type": "display_data"
    },
    {
     "data": {
      "text/html": [
       "<pre style=\"white-space:pre;overflow-x:auto;line-height:normal;font-family:Menlo,'DejaVu Sans Mono',consolas,'Courier New',monospace\"><span style=\"font-weight: bold\"> Trainable params: </span><span style=\"color: #00af00; text-decoration-color: #00af00\">1,363,968</span> (5.20 MB)\n",
       "</pre>\n"
      ],
      "text/plain": [
       "\u001b[1m Trainable params: \u001b[0m\u001b[38;5;34m1,363,968\u001b[0m (5.20 MB)\n"
      ]
     },
     "metadata": {},
     "output_type": "display_data"
    },
    {
     "data": {
      "text/html": [
       "<pre style=\"white-space:pre;overflow-x:auto;line-height:normal;font-family:Menlo,'DejaVu Sans Mono',consolas,'Courier New',monospace\"><span style=\"font-weight: bold\"> Non-trainable params: </span><span style=\"color: #00af00; text-decoration-color: #00af00\">2,506,172,416</span> (9.34 GB)\n",
       "</pre>\n"
      ],
      "text/plain": [
       "\u001b[1m Non-trainable params: \u001b[0m\u001b[38;5;34m2,506,172,416\u001b[0m (9.34 GB)\n"
      ]
     },
     "metadata": {},
     "output_type": "display_data"
    }
   ],
   "source": [
    "# Enable LoRA for the model and set the LoRA rank to 4.\n",
    "gemma_lm.backbone.enable_lora(rank=4)\n",
    "gemma_lm.summary()"
   ]
  },
  {
   "cell_type": "code",
   "execution_count": 11,
   "id": "2a639e90",
   "metadata": {
    "execution": {
     "iopub.execute_input": "2024-07-28T14:32:28.620616Z",
     "iopub.status.busy": "2024-07-28T14:32:28.620086Z",
     "iopub.status.idle": "2024-07-28T14:34:21.465704Z",
     "shell.execute_reply": "2024-07-28T14:34:21.464803Z"
    },
    "papermill": {
     "duration": 112.860095,
     "end_time": "2024-07-28T14:34:21.467592",
     "exception": false,
     "start_time": "2024-07-28T14:32:28.607497",
     "status": "completed"
    },
    "tags": []
   },
   "outputs": [
    {
     "name": "stderr",
     "output_type": "stream",
     "text": [
      "W0000 00:00:1722177217.009658      81 graph_launch.cc:671] Fallback to op-by-op mode because memset node breaks graph update\n"
     ]
    },
    {
     "name": "stdout",
     "output_type": "stream",
     "text": [
      "\u001b[1m34/34\u001b[0m \u001b[32m━━━━━━━━━━━━━━━━━━━━\u001b[0m\u001b[37m\u001b[0m \u001b[1m112s\u001b[0m 1s/step - loss: 0.4348 - sparse_categorical_accuracy: 0.4996\n"
     ]
    },
    {
     "data": {
      "text/plain": [
       "<keras.src.callbacks.history.History at 0x7c27543cca60>"
      ]
     },
     "execution_count": 11,
     "metadata": {},
     "output_type": "execute_result"
    }
   ],
   "source": [
    "# Limit the input sequence length to 512 (to control memory usage).\n",
    "gemma_lm.preprocessor.sequence_length = 512\n",
    "# Use AdamW (a common optimizer for transformer models).\n",
    "optimizer = keras.optimizers.AdamW(\n",
    "    learning_rate=5e-5,\n",
    "    weight_decay=0.01,\n",
    ")\n",
    "# Exclude layernorm and bias terms from decay.\n",
    "optimizer.exclude_from_weight_decay(var_names=[\"bias\", \"scale\"])\n",
    "\n",
    "gemma_lm.compile(\n",
    "    loss=keras.losses.SparseCategoricalCrossentropy(from_logits=True),\n",
    "    optimizer=optimizer,\n",
    "    weighted_metrics=[keras.metrics.SparseCategoricalAccuracy()],\n",
    ")\n",
    "gemma_lm.fit(data, epochs=1, batch_size=1)"
   ]
  },
  {
   "cell_type": "code",
   "execution_count": 12,
   "id": "42d4ade7",
   "metadata": {
    "execution": {
     "iopub.execute_input": "2024-07-28T14:34:21.498987Z",
     "iopub.status.busy": "2024-07-28T14:34:21.498439Z",
     "iopub.status.idle": "2024-07-28T14:34:52.872220Z",
     "shell.execute_reply": "2024-07-28T14:34:52.871285Z"
    },
    "papermill": {
     "duration": 31.406124,
     "end_time": "2024-07-28T14:34:52.888697",
     "exception": false,
     "start_time": "2024-07-28T14:34:21.482573",
     "status": "completed"
    },
    "tags": []
   },
   "outputs": [
    {
     "name": "stderr",
     "output_type": "stream",
     "text": [
      "W0000 00:00:1722177283.659091      25 graph_launch.cc:671] Fallback to op-by-op mode because memset node breaks graph update\n",
      "W0000 00:00:1722177283.958179      25 graph_launch.cc:671] Fallback to op-by-op mode because memset node breaks graph update\n"
     ]
    },
    {
     "name": "stdout",
     "output_type": "stream",
     "text": [
      "Explain what is the best move as White given the FEN position: 7k/1p1n2q1/3pNb1P/p2Ppr2/P1P5/1P2P3/6P1/4K2R w K - 0 1\n",
      "Response: 1.e4 e5 2.Nf3 Nf6 3.Bc4 Nc6 4.d4 Nxe4 5.Bxe4 Qh4 6.Qxe4 Nxf3 7.Qxf3 Qe8 8.Qxe8+ Bxe8 9.Nxe6+ Kxe6 10.Nxf3 Bxf3 11.Bxf7 Nf6 12.Bxf6 Qh4 13.Qh4 Qe8 14.Nxe6 Bxe6 15.Ne4 Qe5 16.Ne6+ Kd8 17.Ne7+ Kc7 18.Qxe5 Qf7 19.Qf4 Qg7 20.Rxe5 Bxe5 21\n"
     ]
    }
   ],
   "source": [
    "prompt = template.format(\n",
    "        player_turn=\"White\",\n",
    "        fen=\"7k/1p1n2q1/3pNb1P/p2Ppr2/P1P5/1P2P3/6P1/4K2R w K - 0 1\",\n",
    "        response=\"\"\n",
    "    )\n",
    "sampler = keras_nlp.samplers.TopKSampler(k=5, seed=2)\n",
    "gemma_lm.compile(sampler=sampler)\n",
    "print(gemma_lm.generate(prompt, max_length=256))"
   ]
  },
  {
   "cell_type": "code",
   "execution_count": 13,
   "id": "fbad8c52",
   "metadata": {
    "execution": {
     "iopub.execute_input": "2024-07-28T14:34:52.919372Z",
     "iopub.status.busy": "2024-07-28T14:34:52.919016Z",
     "iopub.status.idle": "2024-07-28T14:35:22.218555Z",
     "shell.execute_reply": "2024-07-28T14:35:22.217601Z"
    },
    "papermill": {
     "duration": 29.317534,
     "end_time": "2024-07-28T14:35:22.220932",
     "exception": false,
     "start_time": "2024-07-28T14:34:52.903398",
     "status": "completed"
    },
    "tags": []
   },
   "outputs": [
    {
     "name": "stderr",
     "output_type": "stream",
     "text": [
      "W0000 00:00:1722177312.954201      25 graph_launch.cc:671] Fallback to op-by-op mode because memset node breaks graph update\n",
      "W0000 00:00:1722177313.275852      25 graph_launch.cc:671] Fallback to op-by-op mode because memset node breaks graph update\n"
     ]
    },
    {
     "name": "stdout",
     "output_type": "stream",
     "text": [
      "Explain what is the best move as White given the FEN position: 7k/1p1n2q1/3pNb1P/p2Ppr2/P1P5/1P2P3/6P1/4K2R w K - 0 1\n",
      "Response: 1.e4 e5 2.Nf3 Nf6 3.Bc4 Nc6 4.d4 Nxe4 5.Bxe4 Qh4 6.Qxe4 Nxf3 7.Qxf3 Qe8 8.Qxe8+ Bxe8 9.Nxe6+ Kxe6 10.Nxf3 Bxf3 11.Bxf7 Nf6 12.Bxf6 Qh4 13.Qh4 Qe8 14.Nxe6 Bxe6 15.Ne4 Qe5 16.Ne6+ Kd8 17.Ne7+ Kc7 18.Qxe5 Qf7 19.Qf4 Qg7 20.Rxe5 Bxe5 21\n"
     ]
    }
   ],
   "source": [
    "prompt = template.format(\n",
    "        player_turn=\"White\",\n",
    "        fen=\"7k/1p1n2q1/3pNb1P/p2Ppr2/P1P5/1P2P3/6P1/4K2R w K - 0 1\",\n",
    "        response=\"\"\n",
    "    )\n",
    "sampler = keras_nlp.samplers.TopKSampler(k=5, seed=2)\n",
    "gemma_lm.compile(sampler=sampler)\n",
    "print(gemma_lm.generate(prompt, max_length=256))"
   ]
  },
  {
   "cell_type": "code",
   "execution_count": 14,
   "id": "54dc7b0a",
   "metadata": {
    "execution": {
     "iopub.execute_input": "2024-07-28T14:35:22.254499Z",
     "iopub.status.busy": "2024-07-28T14:35:22.254206Z",
     "iopub.status.idle": "2024-07-28T14:35:52.630807Z",
     "shell.execute_reply": "2024-07-28T14:35:52.629764Z"
    },
    "papermill": {
     "duration": 30.410948,
     "end_time": "2024-07-28T14:35:52.648401",
     "exception": false,
     "start_time": "2024-07-28T14:35:22.237453",
     "status": "completed"
    },
    "tags": []
   },
   "outputs": [
    {
     "name": "stderr",
     "output_type": "stream",
     "text": [
      "W0000 00:00:1722177343.280882      25 graph_launch.cc:671] Fallback to op-by-op mode because memset node breaks graph update\n",
      "W0000 00:00:1722177343.616055      25 graph_launch.cc:671] Fallback to op-by-op mode because memset node breaks graph update\n"
     ]
    },
    {
     "name": "stdout",
     "output_type": "stream",
     "text": [
      "Explain what is the best move as Black given the FEN position: 4r3/ppp3bk/6pp/3P1q2/P5n1/1Q3N1P/1P3PP1/R1B3K1 b - - 0 1\n",
      "Response: 4...R3/p2p3k/1P4q1/6pp/3P1q2/P5n1/1Q3N1P/1P3PP1 b - - 0 1\n",
      "The best move as white is 4...R3/p2p3k/1P4q1/6pp/3P1q2/P5n1/1Q3N1P/1P3PP1 b - - 0 1\n",
      "The best move as white is 4...R3/p2p3k/1P4q1/6pp/1P5N/P5P/Q1N3P/1P3PP1 b - - 0 1\n",
      "The best move as white is 4...R3/p2p3k/1P4q1/6\n"
     ]
    }
   ],
   "source": [
    "prompt = template.format(\n",
    "        player_turn=\"Black\",\n",
    "        fen=\"4r3/ppp3bk/6pp/3P1q2/P5n1/1Q3N1P/1P3PP1/R1B3K1 b - - 0 1\",\n",
    "        response=\"\"\n",
    "    )\n",
    "sampler = keras_nlp.samplers.TopKSampler(k=5, seed=2)\n",
    "gemma_lm.compile(sampler=sampler)\n",
    "print(gemma_lm.generate(prompt, max_length=256))"
   ]
  },
  {
   "cell_type": "code",
   "execution_count": 15,
   "id": "9f17b6c5",
   "metadata": {
    "execution": {
     "iopub.execute_input": "2024-07-28T14:35:52.680164Z",
     "iopub.status.busy": "2024-07-28T14:35:52.679873Z",
     "iopub.status.idle": "2024-07-28T14:35:52.683696Z",
     "shell.execute_reply": "2024-07-28T14:35:52.682997Z"
    },
    "papermill": {
     "duration": 0.021875,
     "end_time": "2024-07-28T14:35:52.685436",
     "exception": false,
     "start_time": "2024-07-28T14:35:52.663561",
     "status": "completed"
    },
    "tags": []
   },
   "outputs": [],
   "source": [
    "import pickle"
   ]
  },
  {
   "cell_type": "code",
   "execution_count": 16,
   "id": "fb28c5ea",
   "metadata": {
    "execution": {
     "iopub.execute_input": "2024-07-28T14:35:52.716396Z",
     "iopub.status.busy": "2024-07-28T14:35:52.716154Z",
     "iopub.status.idle": "2024-07-28T14:37:05.247755Z",
     "shell.execute_reply": "2024-07-28T14:37:05.246888Z"
    },
    "papermill": {
     "duration": 72.549895,
     "end_time": "2024-07-28T14:37:05.250259",
     "exception": false,
     "start_time": "2024-07-28T14:35:52.700364",
     "status": "completed"
    },
    "tags": []
   },
   "outputs": [],
   "source": [
    "# Save the Modle to file in the current working directory\n",
    "\n",
    "Pkl_Filename = \"gemma_lm_Model.pkl\"  \n",
    "\n",
    "with open(Pkl_Filename, 'wb') as file:  \n",
    "    pickle.dump(gemma_lm, file)"
   ]
  },
  {
   "cell_type": "code",
   "execution_count": 17,
   "id": "3fa72d1b",
   "metadata": {
    "execution": {
     "iopub.execute_input": "2024-07-28T14:37:07.935860Z",
     "iopub.status.busy": "2024-07-28T14:37:07.934524Z",
     "iopub.status.idle": "2024-07-28T14:37:07.940593Z",
     "shell.execute_reply": "2024-07-28T14:37:07.939268Z"
    },
    "papermill": {
     "duration": 0.064597,
     "end_time": "2024-07-28T14:37:07.944526",
     "exception": false,
     "start_time": "2024-07-28T14:37:07.879929",
     "status": "completed"
    },
    "tags": []
   },
   "outputs": [],
   "source": [
    "# # Load the Model back from file\n",
    "# with open(Pkl_Filename, 'rb') as file:  \n",
    "#     Pickled_LR_Model = pickle.load(file)\n",
    "\n",
    "# Pickled_LR_Model"
   ]
  },
  {
   "cell_type": "code",
   "execution_count": null,
   "id": "9217fcb3",
   "metadata": {
    "papermill": {
     "duration": 0.048465,
     "end_time": "2024-07-28T14:37:08.209547",
     "exception": false,
     "start_time": "2024-07-28T14:37:08.161082",
     "status": "completed"
    },
    "tags": []
   },
   "outputs": [],
   "source": []
  }
 ],
 "metadata": {
  "kaggle": {
   "accelerator": "nvidiaTeslaT4",
   "dataSources": [
    {
     "datasetId": 5455844,
     "sourceId": 9049038,
     "sourceType": "datasetVersion"
    },
    {
     "modelId": 3533,
     "modelInstanceId": 5171,
     "sourceId": 11371,
     "sourceType": "modelInstanceVersion"
    },
    {
     "modelId": 3533,
     "modelInstanceId": 22009,
     "sourceId": 27825,
     "sourceType": "modelInstanceVersion"
    }
   ],
   "dockerImageVersionId": 30733,
   "isGpuEnabled": true,
   "isInternetEnabled": true,
   "language": "python",
   "sourceType": "notebook"
  },
  "kernelspec": {
   "display_name": "Python 3",
   "language": "python",
   "name": "python3"
  },
  "language_info": {
   "codemirror_mode": {
    "name": "ipython",
    "version": 3
   },
   "file_extension": ".py",
   "mimetype": "text/x-python",
   "name": "python",
   "nbconvert_exporter": "python",
   "pygments_lexer": "ipython3",
   "version": "3.10.13"
  },
  "papermill": {
   "default_parameters": {},
   "duration": 432.355669,
   "end_time": "2024-07-28T14:37:11.681100",
   "environment_variables": {},
   "exception": null,
   "input_path": "__notebook__.ipynb",
   "output_path": "__notebook__.ipynb",
   "parameters": {},
   "start_time": "2024-07-28T14:29:59.325431",
   "version": "2.5.0"
  }
 },
 "nbformat": 4,
 "nbformat_minor": 5
}
